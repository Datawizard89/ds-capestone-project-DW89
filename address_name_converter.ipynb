{
 "cells": [
  {
   "cell_type": "code",
   "execution_count": 22,
   "metadata": {},
   "outputs": [],
   "source": [
    "def address_to_sat(address):\n",
    "    with_underscore = address.replace(\" \", \"_\")\n",
    "    \n",
    "    add_zeros = '00' + with_underscore\n",
    "\n",
    "    first_underscore_index = add_zeros.find(\"_\")\n",
    "    second_underscore_index = add_zeros.find(\"_\", first_underscore_index + 1)\n",
    "    if second_underscore_index != -1:\n",
    "    # Remove everything after the second underscore\n",
    "        result_string = add_zeros[:second_underscore_index]\n",
    "    else:\n",
    "        # Handle the case where there is no second underscore\n",
    "        result_string = add_zeros\n",
    "\n",
    "    final = result_string + '_Sate.png'\n",
    "    print(final)"
   ]
  },
  {
   "cell_type": "code",
   "execution_count": 25,
   "metadata": {},
   "outputs": [
    {
     "name": "stdout",
     "output_type": "stream",
     "text": [
      "00Attilastraße_5_Sate.png\n"
     ]
    }
   ],
   "source": [
    "address_to_sat('Attilastraße 5 12105 Berlin')"
   ]
  },
  {
   "cell_type": "code",
   "execution_count": null,
   "metadata": {},
   "outputs": [],
   "source": []
  }
 ],
 "metadata": {
  "kernelspec": {
   "display_name": "Python 3",
   "language": "python",
   "name": "python3"
  },
  "language_info": {
   "codemirror_mode": {
    "name": "ipython",
    "version": 3
   },
   "file_extension": ".py",
   "mimetype": "text/x-python",
   "name": "python",
   "nbconvert_exporter": "python",
   "pygments_lexer": "ipython3",
   "version": "3.11.4"
  }
 },
 "nbformat": 4,
 "nbformat_minor": 2
}
