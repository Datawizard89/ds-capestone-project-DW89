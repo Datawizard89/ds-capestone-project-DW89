{
 "cells": [
  {
   "cell_type": "code",
   "execution_count": null,
   "metadata": {},
   "outputs": [],
   "source": [
    "def address_to_sat(address):\n",
    "    with_underscore = address.replace({\n",
    "        \" \" : \"_\"\n",
    "        })\n",
    "    \n",
    "    add_zeros = with_underscore.append('00')\n",
    "    print(add_zeros)"
   ]
  }
 ],
 "metadata": {
  "language_info": {
   "name": "python"
  }
 },
 "nbformat": 4,
 "nbformat_minor": 2
}
