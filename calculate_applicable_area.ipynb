{
 "cells": [
  {
   "cell_type": "code",
   "execution_count": 25,
   "metadata": {},
   "outputs": [
    {
     "name": "stderr",
     "output_type": "stream",
     "text": [
      "C:\\Users\\mojta\\AppData\\Local\\Temp\\ipykernel_7292\\2121220366.py:10: DeprecationWarning: Starting with ImageIO v3 the behavior of this function will switch to that of iio.v3.imread. To keep the current behavior (and make this warning disappear) use `import imageio.v2 as imageio` or call `imageio.v2.imread` directly.\n",
      "  image = imageio.imread(image_path)\n",
      "c:\\Users\\mojta\\AppData\\Local\\Programs\\Python\\Python311\\Lib\\site-packages\\sklearn\\cluster\\_kmeans.py:870: FutureWarning: The default value of `n_init` will change from 10 to 'auto' in 1.4. Set the value of `n_init` explicitly to suppress the warning\n",
      "  warnings.warn(\n"
     ]
    },
    {
     "data": {
      "image/png": "[encoded data removed]",
      "text/plain": [
       "<Figure size 800x800 with 2 Axes>"
      ]
     },
     "metadata": {},
     "output_type": "display_data"
    }
   ],
   "source": [
    "import imageio\n",
    "import numpy as np\n",
    "import matplotlib.pyplot as plt\n",
    "from sklearn.cluster import KMeans\n",
    "from matplotlib.colors import ListedColormap\n",
    "import matplotlib.colors as mcolors\n",
    "\n",
    "# Load the PNG image\n",
    "image_path = 'C:\\\\Users\\\\mojta\\\\Downloads\\\\FirstCutOut.png'\n",
    "image = imageio.imread(image_path)\n",
    "\n",
    "# Get the shape of the image and reshape it for clustering\n",
    "height, width, channels = image.shape\n",
    "pixels = image.reshape(-1, channels)\n",
    "\n",
    "# Perform K-means clustering\n",
    "num_clusters = 5  # You can adjust this to change the number of clusters\n",
    "kmeans = KMeans(n_clusters=num_clusters, random_state=0).fit(pixels)\n",
    "labels = kmeans.labels_\n",
    "cluster_centers = kmeans.cluster_centers_\n",
    "\n",
    "# Reshape the labels to match the original image shape\n",
    "clustered_image = labels.reshape(height, width)\n",
    "\n",
    "\n",
    "colors = ['red', 'green', 'blue', 'orange']  # Define colors for each class\n",
    "cmap = ListedColormap(colors)\n",
    "\n",
    "bounds = np.arange(np.min(clustered_image) , np.max(clustered_image) + 1, 1)  # Define class boundaries\n",
    "norm = mcolors.BoundaryNorm(boundaries=bounds, ncolors=cmap.N, clip=False)\n",
    "\n",
    "# Create a visualization of the clustered image\n",
    "plt.figure(figsize=(8, 8))\n",
    "plt.imshow(clustered_image, cmap=cmap, norm=norm)\n",
    "# Create a colorbar to show the color mapping\n",
    "cbar = plt.colorbar()\n",
    "\n",
    "\n",
    "plt.title('K-means Clustering Result')\n",
    "plt.axis('off')\n",
    "plt.show()\n"
   ]
  },
  {
   "cell_type": "code",
   "execution_count": 8,
   "metadata": {},
   "outputs": [
    {
     "data": {
      "text/plain": [
       "array([0, 1, 2, 3, 4])"
      ]
     },
     "execution_count": 8,
     "metadata": {},
     "output_type": "execute_result"
    }
   ],
   "source": [
    "np.unique(clustered_image)"
   ]
  },
  {
   "cell_type": "code",
   "execution_count": 27,
   "metadata": {},
   "outputs": [
    {
     "data": {
      "text/plain": [
       "33359"
      ]
     },
     "execution_count": 27,
     "metadata": {},
     "output_type": "execute_result"
    }
   ],
   "source": [
    "picked_class_pixels = np.count_nonzero(clustered_image == 1)\n",
    "picked_class_pixels"
   ]
  },
  {
   "cell_type": "code",
   "execution_count": 28,
   "metadata": {},
   "outputs": [
    {
     "name": "stdout",
     "output_type": "stream",
     "text": [
      "At zoom level 20, 1 centimeter is approximately 14.93 pixels.\n"
     ]
    }
   ],
   "source": [
    "# Define the zoom level\n",
    "zoom = 20\n",
    "\n",
    "# Calculate the scale in meters per pixel\n",
    "scale_meters_per_pixel = 156543.03392 / (2 ** zoom)\n",
    "\n",
    "# Convert meters to centimeters\n",
    "scale_centimeters_per_pixel = scale_meters_per_pixel * 100\n",
    "\n",
    "print(f\"At zoom level {zoom}, 1 centimeter is approximately {scale_centimeters_per_pixel:.2f} pixels.\")\n"
   ]
  },
  {
   "cell_type": "code",
   "execution_count": 30,
   "metadata": {},
   "outputs": [
    {
     "name": "stdout",
     "output_type": "stream",
     "text": [
      "At zoom level 20 and latitude 52.520008 degrees, 1 centimeter on Google Maps is approximately 15.51 meters in the real world.\n"
     ]
    }
   ],
   "source": [
    "import math\n",
    "\n",
    "# Define the zoom level, latitude in degrees, and 1 centimeter in pixels\n",
    "zoom = 20  # Replace with your desired zoom level\n",
    "latitude_deg = 52.520008  # berlin's latitude\n",
    "one_centimeter_pixels = 1  # Replace with the size of 1 centimeter in pixels\n",
    "\n",
    "# Calculate the scale factor\n",
    "latitude_rad = math.radians(latitude_deg)\n",
    "scale_factor = (40008000 / (2 ** zoom * 360)) * math.cos(latitude_rad)\n",
    "\n",
    "# Calculate the real-world size of 1 centimeter in meters\n",
    "real_world_size_meters = one_centimeter_pixels / scale_factor\n",
    "\n",
    "print(f\"At zoom level {zoom} and latitude {latitude_deg} degrees, 1 centimeter on Google Maps is approximately {real_world_size_meters:.2f} meters in the real world.\")\n"
   ]
  },
  {
   "cell_type": "markdown",
   "metadata": {},
   "source": [
    "at zoom level 20 in Google Maps, approximately 0.0089 pixels represent 1 square meter\n",
    "\n",
    "SQM of a roof based on the number of pixels: number of pixels x 0.0089"
   ]
  },
  {
   "cell_type": "code",
   "execution_count": 34,
   "metadata": {},
   "outputs": [
    {
     "data": {
      "text/plain": [
       "296.9"
      ]
     },
     "execution_count": 34,
     "metadata": {},
     "output_type": "execute_result"
    }
   ],
   "source": [
    "estmiation_of_size = round(picked_class_pixels * 0.0089,2)\n",
    "estmiation_of_size"
   ]
  },
  {
   "cell_type": "code",
   "execution_count": null,
   "metadata": {},
   "outputs": [],
   "source": []
  },
  {
   "cell_type": "code",
   "execution_count": null,
   "metadata": {},
   "outputs": [],
   "source": []
  },
  {
   "cell_type": "code",
   "execution_count": null,
   "metadata": {},
   "outputs": [],
   "source": []
  },
  {
   "cell_type": "markdown",
   "metadata": {},
   "source": []
  }
 ],
 "metadata": {
  "kernelspec": {
   "display_name": "Python 3",
   "language": "python",
   "name": "python3"
  },
  "language_info": {
   "codemirror_mode": {
    "name": "ipython",
    "version": 3
   },
   "file_extension": ".py",
   "mimetype": "text/x-python",
   "name": "python",
   "nbconvert_exporter": "python",
   "pygments_lexer": "ipython3",
   "version": "3.11.4"
  }
 },
 "nbformat": 4,
 "nbformat_minor": 2
}
