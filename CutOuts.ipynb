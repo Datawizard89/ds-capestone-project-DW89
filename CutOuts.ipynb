{
 "cells": [
  {
   "cell_type": "markdown",
   "metadata": {},
   "source": [
    "# Project Urban Rooftop Classification: Sixest Notebook: Masked Images for KNN unsupervised clastering\n",
    "\n",
    "From the screenshot to the classification \n",
    "\n",
    "### Geospatial Hypothesis: hybrid images will perform better than just the satellite image "
   ]
  },
  {
   "cell_type": "code",
   "execution_count": 1,
   "metadata": {},
   "outputs": [],
   "source": [
    "import pandas as pd\n",
    "import os \n",
    "import numpy as np #asarray\n",
    "from numpy import mean\n",
    "from PIL import Image\n",
    "import cv2\n"
   ]
  },
  {
   "cell_type": "markdown",
   "metadata": {},
   "source": [
    "## Single Case \n"
   ]
  },
  {
   "cell_type": "code",
   "execution_count": null,
   "metadata": {},
   "outputs": [],
   "source": [
    "img2 = Image.open(\"/Users/robertroskoden/Documents/DataScieneBootcampSPICED/ds-capestone-project-DW89/data/Data/val_masks/val/007_Steglitzer_Sate.png\").convert('RGBA')\n",
    "pixeldata = list(img2.getdata())\n",
    "\n",
    "for i,pixel in enumerate(pixeldata):\n",
    "    if pixel[:3] == (2,2,2):\n",
    "        pixeldata[i] = (2,2,2,0)\n",
    "\n",
    "for i,pixel in enumerate(pixeldata):\n",
    "    if pixel[:3] == (1,1,1):\n",
    "        pixeldata[i] = (1,1,2,0)\n",
    "\n",
    "img2.putdata(pixeldata)\n",
    "img2.show(\"Test\")\n",
    "im1 = Image.open(\"/Users/robertroskoden/Documents/DataScieneBootcampSPICED/ds-capestone-project-DW89/data/Data/val_images/val/007_Steglitzer_Sate.png\")\n",
    "im1.paste(img2, (0,0), mask = img2)\n",
    "im1.show(\"Test\")\n",
    "\n",
    "im1.save('FirstCutOut.png')"
   ]
  },
  {
   "cell_type": "markdown",
   "metadata": {},
   "source": [
    "## MultiCase"
   ]
  },
  {
   "cell_type": "code",
   "execution_count": 2,
   "metadata": {},
   "outputs": [
    {
     "name": "stdout",
     "output_type": "stream",
     "text": [
      "['.DS_Store', '001_Steglitzer_Sate.png', '002_Attilastraße_Sate.png', '005_Attilastraße_Sate.png', '006_Attilastraße_Sate.png', '009_Alt-Lankwitz_Sate.png', '009_Ritterstraße_Sate.png', '010_Attilastraße_Sate.png', '012_Steglitzer_Sate.png', '014_Attilastraße_Sate.png', '017_Steglitzer_Sate.png', '020_Steglitzer_Sate.png', '022_Ritterstraße_Sate.png', '025_Steglitzer_Sate.png', '026_Ritterstraße_Sate.png', '028_Steglitzer_Sate.png', '029_Attilastraße_Sate.png', '031_Ritterstraße_Sate.png', '034_Steglitzer_Sate.png', '035_Ritterstraße_Sate.png', '039_Alt-Lankwitz_Sate.png', '039_Steglitzer_Sate.png', '041_Ritterstraße_Sate.png', '042_Ritterstraße_Sate.png', '042_Steglitzer_Sate.png', '045_Ritterstraße_Sate.png', '047_Steglitzer_Sate.png', '048_Alt-Lankwitz_Sate.png', '049_Alt-Lankwitz_Sate.png', '056_Ritterstraße_Sate.png', '056_Steglitzer_Sate.png', '059_Attilastraße_Sate.png', '070_Steglitzer_Sate.png', '075_Steglitzer_Sate.png', '079_Alt-Lankwitz_Sate.png', '081_Alt-Lankwitz_Sate.png', '082_Steglitzer_Sate.png', '086_Alt-Lankwitz_Sate.png', '093_Alt-Lankwitz_Sate.png', '094_Alt-Lankwitz_Sate.png', '109_Ritterstraße.png', '111_Attilastraße_Sate.png', '112_Attilastraße_Sate.png', '116_Attilastraße_Sate.png', '116_Steglitzer_Sate.png', '119_Ritterstraße_Sate.png', '120_Ritterstraße_Sate.png', '124_Ritterstraße_Sate.png', '138_Attilastraße_Sate.png', '148_Attilastraße_Sate.png', '162_Attilastraße_Sate.png', '166_Attilastraße_Sate.png', '171_Attilastraße_Sate.png', '175_Attilastraße_Sate.png']\n",
      "['.DS_Store', '001_Steglitzer_Sate.png', '002_Attilastraße_Sate.png', '005_Attilastraße_Sate.png', '006_Attilastraße_Sate.png', '009_Alt-Lankwitz_Sate.png', '009_Ritterstraße_Sate.png', '010_Attilastraße_Sate.png', '012_Steglitzer_Sate.png', '014_Attilastraße_Sate.png', '017_Steglitzer_Sate.png', '020_Steglitzer_Sate.png', '022_Ritterstraße_Sate.png', '025_Steglitzer_Sate.png', '026_Ritterstraße_Sate.png', '028_Steglitzer_Sate.png', '029_Attilastraße_Sate.png', '031_Ritterstraße_Sate.png', '034_Steglitzer_Sate.png', '035_Ritterstraße_Sate.png', '039_Alt-Lankwitz_Sate.png', '039_Steglitzer_Sate.png', '041_Ritterstraße_Sate.png', '042_Ritterstraße_Sate.png', '042_Steglitzer_Sate.png', '045_Ritterstraße_Sate.png', '047_Steglitzer_Sate.png', '048_Alt-Lankwitz_Sate.png', '049_Alt-Lankwitz_Sate.png', '056_Ritterstraße_Sate.png', '056_Steglitzer_Sate.png', '059_Attilastraße_Sate.png', '070_Steglitzer_Sate.png', '075_Steglitzer_Sate.png', '079_Alt-Lankwitz_Sate.png', '081_Alt-Lankwitz_Sate.png', '082_Steglitzer_Sate.png', '086_Alt-Lankwitz_Sate.png', '093_Alt-Lankwitz_Sate.png', '094_Alt-Lankwitz_Sate.png', '109_Ritterstraße.png', '111_Attilastraße_Sate.png', '112_Attilastraße_Sate.png', '116_Attilastraße_Sate.png', '116_Steglitzer_Sate.png', '119_Ritterstraße_Sate.png', '120_Ritterstraße_Sate.png', '124_Ritterstraße_Sate.png', '138_Attilastraße_Sate.png', '148_Attilastraße_Sate.png', '162_Attilastraße_Sate.png', '166_Attilastraße_Sate.png', '171_Attilastraße_Sate.png', '175_Attilastraße_Sate.png']\n"
     ]
    }
   ],
   "source": [
    "#----------------------------------------------------------------\n",
    "# Defining Dirs \n",
    "#----------------------------------------------------------------\n",
    "MainPath = '/Users/robertroskoden/Documents/DataScieneBootcampSPICED/ds-capestone-project-DW89/data/Data/'\n",
    "ImReP = 'train_images/train'\n",
    "MaReP = 'train_masks/train'   \n",
    "COP = '/Users/robertroskoden/Documents/DataScieneBootcampSPICED/ds-capestone-project-DW89/CutOuts/'\n",
    "                                                                    #changing into data dir \n",
    "#----------------------------------------------------------------\n",
    "# Creating Im Items \n",
    "#----------------------------------------------------------------\n",
    "PathIM  = os.path.join(MainPath,ImReP)                                             \n",
    "LisIM = sorted(os.listdir(PathIM)    )  \n",
    "if '.DS_Store'  in LisIM:                                           # making sure there are not .DS_Store files\n",
    "    print(LisIM)\n",
    "    LisIM.remove('.DS_Store')\n",
    "                                                                    #listing all objects \n",
    "# print(LisIM)                                                                   \n",
    "#----------------------------------------------------------------\n",
    "# Creating Ma Items \n",
    "#----------------------------------------------------------------\n",
    "PathMA  = os.path.join(MainPath,MaReP)                                             \n",
    "LisMA = sorted(os.listdir(PathMA)  )\n",
    "if '.DS_Store'  in LisMA:                                           # making sure there are not .DS_Store files\n",
    "    print(LisMA)\n",
    "    LisMA.remove('.DS_Store')\n",
    "# print(LisMA)\n",
    "#----------------------------------------------------------------\n",
    "# Creating Im and Ma Dir \n",
    "#----------------------------------------------------------------\n",
    "PathMA  = os.path.join(MainPath,MaReP)                             \n",
    "LisDirIm = []                                                        #generating empty list \n",
    "LisDirMa = [] \n",
    "for item in LisIM:                                                    #checking if object is file or subfolder (we want in the sub folder)\n",
    "    ImDir = os.path.join(PathIM,item) \n",
    "    LisDirIm.append(ImDir)                                            #saving subfolder names\n",
    "    MaDir = os.path.join(PathMA,item)\n",
    "    LisDirMa.append(MaDir)\n",
    "\n",
    " "
   ]
  },
  {
   "cell_type": "code",
   "execution_count": 3,
   "metadata": {},
   "outputs": [
    {
     "name": "stdout",
     "output_type": "stream",
     "text": [
      "['/Users/robertroskoden/Documents/DataScieneBootcampSPICED/ds-capestone-project-DW89/data/Data/train_images/train/001_Steglitzer_Sate.png', '/Users/robertroskoden/Documents/DataScieneBootcampSPICED/ds-capestone-project-DW89/data/Data/train_images/train/002_Attilastraße_Sate.png', '/Users/robertroskoden/Documents/DataScieneBootcampSPICED/ds-capestone-project-DW89/data/Data/train_images/train/005_Attilastraße_Sate.png', '/Users/robertroskoden/Documents/DataScieneBootcampSPICED/ds-capestone-project-DW89/data/Data/train_images/train/006_Attilastraße_Sate.png', '/Users/robertroskoden/Documents/DataScieneBootcampSPICED/ds-capestone-project-DW89/data/Data/train_images/train/009_Alt-Lankwitz_Sate.png', '/Users/robertroskoden/Documents/DataScieneBootcampSPICED/ds-capestone-project-DW89/data/Data/train_images/train/009_Ritterstraße_Sate.png', '/Users/robertroskoden/Documents/DataScieneBootcampSPICED/ds-capestone-project-DW89/data/Data/train_images/train/010_Attilastraße_Sate.png', '/Users/robertroskoden/Documents/DataScieneBootcampSPICED/ds-capestone-project-DW89/data/Data/train_images/train/012_Steglitzer_Sate.png', '/Users/robertroskoden/Documents/DataScieneBootcampSPICED/ds-capestone-project-DW89/data/Data/train_images/train/014_Attilastraße_Sate.png', '/Users/robertroskoden/Documents/DataScieneBootcampSPICED/ds-capestone-project-DW89/data/Data/train_images/train/017_Steglitzer_Sate.png', '/Users/robertroskoden/Documents/DataScieneBootcampSPICED/ds-capestone-project-DW89/data/Data/train_images/train/020_Steglitzer_Sate.png', '/Users/robertroskoden/Documents/DataScieneBootcampSPICED/ds-capestone-project-DW89/data/Data/train_images/train/022_Ritterstraße_Sate.png', '/Users/robertroskoden/Documents/DataScieneBootcampSPICED/ds-capestone-project-DW89/data/Data/train_images/train/025_Steglitzer_Sate.png', '/Users/robertroskoden/Documents/DataScieneBootcampSPICED/ds-capestone-project-DW89/data/Data/train_images/train/026_Ritterstraße_Sate.png', '/Users/robertroskoden/Documents/DataScieneBootcampSPICED/ds-capestone-project-DW89/data/Data/train_images/train/028_Steglitzer_Sate.png', '/Users/robertroskoden/Documents/DataScieneBootcampSPICED/ds-capestone-project-DW89/data/Data/train_images/train/029_Attilastraße_Sate.png', '/Users/robertroskoden/Documents/DataScieneBootcampSPICED/ds-capestone-project-DW89/data/Data/train_images/train/031_Ritterstraße_Sate.png', '/Users/robertroskoden/Documents/DataScieneBootcampSPICED/ds-capestone-project-DW89/data/Data/train_images/train/034_Steglitzer_Sate.png', '/Users/robertroskoden/Documents/DataScieneBootcampSPICED/ds-capestone-project-DW89/data/Data/train_images/train/035_Ritterstraße_Sate.png', '/Users/robertroskoden/Documents/DataScieneBootcampSPICED/ds-capestone-project-DW89/data/Data/train_images/train/039_Alt-Lankwitz_Sate.png', '/Users/robertroskoden/Documents/DataScieneBootcampSPICED/ds-capestone-project-DW89/data/Data/train_images/train/039_Steglitzer_Sate.png', '/Users/robertroskoden/Documents/DataScieneBootcampSPICED/ds-capestone-project-DW89/data/Data/train_images/train/041_Ritterstraße_Sate.png', '/Users/robertroskoden/Documents/DataScieneBootcampSPICED/ds-capestone-project-DW89/data/Data/train_images/train/042_Ritterstraße_Sate.png', '/Users/robertroskoden/Documents/DataScieneBootcampSPICED/ds-capestone-project-DW89/data/Data/train_images/train/042_Steglitzer_Sate.png', '/Users/robertroskoden/Documents/DataScieneBootcampSPICED/ds-capestone-project-DW89/data/Data/train_images/train/045_Ritterstraße_Sate.png', '/Users/robertroskoden/Documents/DataScieneBootcampSPICED/ds-capestone-project-DW89/data/Data/train_images/train/047_Steglitzer_Sate.png', '/Users/robertroskoden/Documents/DataScieneBootcampSPICED/ds-capestone-project-DW89/data/Data/train_images/train/048_Alt-Lankwitz_Sate.png', '/Users/robertroskoden/Documents/DataScieneBootcampSPICED/ds-capestone-project-DW89/data/Data/train_images/train/049_Alt-Lankwitz_Sate.png', '/Users/robertroskoden/Documents/DataScieneBootcampSPICED/ds-capestone-project-DW89/data/Data/train_images/train/056_Ritterstraße_Sate.png', '/Users/robertroskoden/Documents/DataScieneBootcampSPICED/ds-capestone-project-DW89/data/Data/train_images/train/056_Steglitzer_Sate.png', '/Users/robertroskoden/Documents/DataScieneBootcampSPICED/ds-capestone-project-DW89/data/Data/train_images/train/059_Attilastraße_Sate.png', '/Users/robertroskoden/Documents/DataScieneBootcampSPICED/ds-capestone-project-DW89/data/Data/train_images/train/070_Steglitzer_Sate.png', '/Users/robertroskoden/Documents/DataScieneBootcampSPICED/ds-capestone-project-DW89/data/Data/train_images/train/075_Steglitzer_Sate.png', '/Users/robertroskoden/Documents/DataScieneBootcampSPICED/ds-capestone-project-DW89/data/Data/train_images/train/079_Alt-Lankwitz_Sate.png', '/Users/robertroskoden/Documents/DataScieneBootcampSPICED/ds-capestone-project-DW89/data/Data/train_images/train/081_Alt-Lankwitz_Sate.png', '/Users/robertroskoden/Documents/DataScieneBootcampSPICED/ds-capestone-project-DW89/data/Data/train_images/train/082_Steglitzer_Sate.png', '/Users/robertroskoden/Documents/DataScieneBootcampSPICED/ds-capestone-project-DW89/data/Data/train_images/train/086_Alt-Lankwitz_Sate.png', '/Users/robertroskoden/Documents/DataScieneBootcampSPICED/ds-capestone-project-DW89/data/Data/train_images/train/093_Alt-Lankwitz_Sate.png', '/Users/robertroskoden/Documents/DataScieneBootcampSPICED/ds-capestone-project-DW89/data/Data/train_images/train/094_Alt-Lankwitz_Sate.png', '/Users/robertroskoden/Documents/DataScieneBootcampSPICED/ds-capestone-project-DW89/data/Data/train_images/train/109_Ritterstraße.png', '/Users/robertroskoden/Documents/DataScieneBootcampSPICED/ds-capestone-project-DW89/data/Data/train_images/train/111_Attilastraße_Sate.png', '/Users/robertroskoden/Documents/DataScieneBootcampSPICED/ds-capestone-project-DW89/data/Data/train_images/train/112_Attilastraße_Sate.png', '/Users/robertroskoden/Documents/DataScieneBootcampSPICED/ds-capestone-project-DW89/data/Data/train_images/train/116_Attilastraße_Sate.png', '/Users/robertroskoden/Documents/DataScieneBootcampSPICED/ds-capestone-project-DW89/data/Data/train_images/train/116_Steglitzer_Sate.png', '/Users/robertroskoden/Documents/DataScieneBootcampSPICED/ds-capestone-project-DW89/data/Data/train_images/train/119_Ritterstraße_Sate.png', '/Users/robertroskoden/Documents/DataScieneBootcampSPICED/ds-capestone-project-DW89/data/Data/train_images/train/120_Ritterstraße_Sate.png', '/Users/robertroskoden/Documents/DataScieneBootcampSPICED/ds-capestone-project-DW89/data/Data/train_images/train/124_Ritterstraße_Sate.png', '/Users/robertroskoden/Documents/DataScieneBootcampSPICED/ds-capestone-project-DW89/data/Data/train_images/train/138_Attilastraße_Sate.png', '/Users/robertroskoden/Documents/DataScieneBootcampSPICED/ds-capestone-project-DW89/data/Data/train_images/train/148_Attilastraße_Sate.png', '/Users/robertroskoden/Documents/DataScieneBootcampSPICED/ds-capestone-project-DW89/data/Data/train_images/train/162_Attilastraße_Sate.png', '/Users/robertroskoden/Documents/DataScieneBootcampSPICED/ds-capestone-project-DW89/data/Data/train_images/train/166_Attilastraße_Sate.png', '/Users/robertroskoden/Documents/DataScieneBootcampSPICED/ds-capestone-project-DW89/data/Data/train_images/train/171_Attilastraße_Sate.png', '/Users/robertroskoden/Documents/DataScieneBootcampSPICED/ds-capestone-project-DW89/data/Data/train_images/train/175_Attilastraße_Sate.png']\n",
      "['/Users/robertroskoden/Documents/DataScieneBootcampSPICED/ds-capestone-project-DW89/data/Data/train_masks/train/001_Steglitzer_Sate.png', '/Users/robertroskoden/Documents/DataScieneBootcampSPICED/ds-capestone-project-DW89/data/Data/train_masks/train/002_Attilastraße_Sate.png', '/Users/robertroskoden/Documents/DataScieneBootcampSPICED/ds-capestone-project-DW89/data/Data/train_masks/train/005_Attilastraße_Sate.png', '/Users/robertroskoden/Documents/DataScieneBootcampSPICED/ds-capestone-project-DW89/data/Data/train_masks/train/006_Attilastraße_Sate.png', '/Users/robertroskoden/Documents/DataScieneBootcampSPICED/ds-capestone-project-DW89/data/Data/train_masks/train/009_Alt-Lankwitz_Sate.png', '/Users/robertroskoden/Documents/DataScieneBootcampSPICED/ds-capestone-project-DW89/data/Data/train_masks/train/009_Ritterstraße_Sate.png', '/Users/robertroskoden/Documents/DataScieneBootcampSPICED/ds-capestone-project-DW89/data/Data/train_masks/train/010_Attilastraße_Sate.png', '/Users/robertroskoden/Documents/DataScieneBootcampSPICED/ds-capestone-project-DW89/data/Data/train_masks/train/012_Steglitzer_Sate.png', '/Users/robertroskoden/Documents/DataScieneBootcampSPICED/ds-capestone-project-DW89/data/Data/train_masks/train/014_Attilastraße_Sate.png', '/Users/robertroskoden/Documents/DataScieneBootcampSPICED/ds-capestone-project-DW89/data/Data/train_masks/train/017_Steglitzer_Sate.png', '/Users/robertroskoden/Documents/DataScieneBootcampSPICED/ds-capestone-project-DW89/data/Data/train_masks/train/020_Steglitzer_Sate.png', '/Users/robertroskoden/Documents/DataScieneBootcampSPICED/ds-capestone-project-DW89/data/Data/train_masks/train/022_Ritterstraße_Sate.png', '/Users/robertroskoden/Documents/DataScieneBootcampSPICED/ds-capestone-project-DW89/data/Data/train_masks/train/025_Steglitzer_Sate.png', '/Users/robertroskoden/Documents/DataScieneBootcampSPICED/ds-capestone-project-DW89/data/Data/train_masks/train/026_Ritterstraße_Sate.png', '/Users/robertroskoden/Documents/DataScieneBootcampSPICED/ds-capestone-project-DW89/data/Data/train_masks/train/028_Steglitzer_Sate.png', '/Users/robertroskoden/Documents/DataScieneBootcampSPICED/ds-capestone-project-DW89/data/Data/train_masks/train/029_Attilastraße_Sate.png', '/Users/robertroskoden/Documents/DataScieneBootcampSPICED/ds-capestone-project-DW89/data/Data/train_masks/train/031_Ritterstraße_Sate.png', '/Users/robertroskoden/Documents/DataScieneBootcampSPICED/ds-capestone-project-DW89/data/Data/train_masks/train/034_Steglitzer_Sate.png', '/Users/robertroskoden/Documents/DataScieneBootcampSPICED/ds-capestone-project-DW89/data/Data/train_masks/train/035_Ritterstraße_Sate.png', '/Users/robertroskoden/Documents/DataScieneBootcampSPICED/ds-capestone-project-DW89/data/Data/train_masks/train/039_Alt-Lankwitz_Sate.png', '/Users/robertroskoden/Documents/DataScieneBootcampSPICED/ds-capestone-project-DW89/data/Data/train_masks/train/039_Steglitzer_Sate.png', '/Users/robertroskoden/Documents/DataScieneBootcampSPICED/ds-capestone-project-DW89/data/Data/train_masks/train/041_Ritterstraße_Sate.png', '/Users/robertroskoden/Documents/DataScieneBootcampSPICED/ds-capestone-project-DW89/data/Data/train_masks/train/042_Ritterstraße_Sate.png', '/Users/robertroskoden/Documents/DataScieneBootcampSPICED/ds-capestone-project-DW89/data/Data/train_masks/train/042_Steglitzer_Sate.png', '/Users/robertroskoden/Documents/DataScieneBootcampSPICED/ds-capestone-project-DW89/data/Data/train_masks/train/045_Ritterstraße_Sate.png', '/Users/robertroskoden/Documents/DataScieneBootcampSPICED/ds-capestone-project-DW89/data/Data/train_masks/train/047_Steglitzer_Sate.png', '/Users/robertroskoden/Documents/DataScieneBootcampSPICED/ds-capestone-project-DW89/data/Data/train_masks/train/048_Alt-Lankwitz_Sate.png', '/Users/robertroskoden/Documents/DataScieneBootcampSPICED/ds-capestone-project-DW89/data/Data/train_masks/train/049_Alt-Lankwitz_Sate.png', '/Users/robertroskoden/Documents/DataScieneBootcampSPICED/ds-capestone-project-DW89/data/Data/train_masks/train/056_Ritterstraße_Sate.png', '/Users/robertroskoden/Documents/DataScieneBootcampSPICED/ds-capestone-project-DW89/data/Data/train_masks/train/056_Steglitzer_Sate.png', '/Users/robertroskoden/Documents/DataScieneBootcampSPICED/ds-capestone-project-DW89/data/Data/train_masks/train/059_Attilastraße_Sate.png', '/Users/robertroskoden/Documents/DataScieneBootcampSPICED/ds-capestone-project-DW89/data/Data/train_masks/train/070_Steglitzer_Sate.png', '/Users/robertroskoden/Documents/DataScieneBootcampSPICED/ds-capestone-project-DW89/data/Data/train_masks/train/075_Steglitzer_Sate.png', '/Users/robertroskoden/Documents/DataScieneBootcampSPICED/ds-capestone-project-DW89/data/Data/train_masks/train/079_Alt-Lankwitz_Sate.png', '/Users/robertroskoden/Documents/DataScieneBootcampSPICED/ds-capestone-project-DW89/data/Data/train_masks/train/081_Alt-Lankwitz_Sate.png', '/Users/robertroskoden/Documents/DataScieneBootcampSPICED/ds-capestone-project-DW89/data/Data/train_masks/train/082_Steglitzer_Sate.png', '/Users/robertroskoden/Documents/DataScieneBootcampSPICED/ds-capestone-project-DW89/data/Data/train_masks/train/086_Alt-Lankwitz_Sate.png', '/Users/robertroskoden/Documents/DataScieneBootcampSPICED/ds-capestone-project-DW89/data/Data/train_masks/train/093_Alt-Lankwitz_Sate.png', '/Users/robertroskoden/Documents/DataScieneBootcampSPICED/ds-capestone-project-DW89/data/Data/train_masks/train/094_Alt-Lankwitz_Sate.png', '/Users/robertroskoden/Documents/DataScieneBootcampSPICED/ds-capestone-project-DW89/data/Data/train_masks/train/109_Ritterstraße.png', '/Users/robertroskoden/Documents/DataScieneBootcampSPICED/ds-capestone-project-DW89/data/Data/train_masks/train/111_Attilastraße_Sate.png', '/Users/robertroskoden/Documents/DataScieneBootcampSPICED/ds-capestone-project-DW89/data/Data/train_masks/train/112_Attilastraße_Sate.png', '/Users/robertroskoden/Documents/DataScieneBootcampSPICED/ds-capestone-project-DW89/data/Data/train_masks/train/116_Attilastraße_Sate.png', '/Users/robertroskoden/Documents/DataScieneBootcampSPICED/ds-capestone-project-DW89/data/Data/train_masks/train/116_Steglitzer_Sate.png', '/Users/robertroskoden/Documents/DataScieneBootcampSPICED/ds-capestone-project-DW89/data/Data/train_masks/train/119_Ritterstraße_Sate.png', '/Users/robertroskoden/Documents/DataScieneBootcampSPICED/ds-capestone-project-DW89/data/Data/train_masks/train/120_Ritterstraße_Sate.png', '/Users/robertroskoden/Documents/DataScieneBootcampSPICED/ds-capestone-project-DW89/data/Data/train_masks/train/124_Ritterstraße_Sate.png', '/Users/robertroskoden/Documents/DataScieneBootcampSPICED/ds-capestone-project-DW89/data/Data/train_masks/train/138_Attilastraße_Sate.png', '/Users/robertroskoden/Documents/DataScieneBootcampSPICED/ds-capestone-project-DW89/data/Data/train_masks/train/148_Attilastraße_Sate.png', '/Users/robertroskoden/Documents/DataScieneBootcampSPICED/ds-capestone-project-DW89/data/Data/train_masks/train/162_Attilastraße_Sate.png', '/Users/robertroskoden/Documents/DataScieneBootcampSPICED/ds-capestone-project-DW89/data/Data/train_masks/train/166_Attilastraße_Sate.png', '/Users/robertroskoden/Documents/DataScieneBootcampSPICED/ds-capestone-project-DW89/data/Data/train_masks/train/171_Attilastraße_Sate.png', '/Users/robertroskoden/Documents/DataScieneBootcampSPICED/ds-capestone-project-DW89/data/Data/train_masks/train/175_Attilastraße_Sate.png']\n"
     ]
    }
   ],
   "source": [
    "#----------------------------------------------------------------\n",
    "# In case you wanna check  \n",
    "#----------------------------------------------------------------\n",
    "print(LisDirIm)\n",
    "print(LisDirMa)"
   ]
  },
  {
   "cell_type": "code",
   "execution_count": 4,
   "metadata": {},
   "outputs": [],
   "source": [
    "def AlphaChanel(img2): \n",
    "    '''\n",
    "    #----------------------------------------------------------------\n",
    "    # Chaning alpha channel of image for mask to 0 \n",
    "    # ----------------------------------------------------------------\n",
    "    '''\n",
    "    pixeldata = list(img2.getdata())\n",
    "\n",
    "    for i,pixel in enumerate(pixeldata):                                #for class 2 (sattel roof)\n",
    "        if pixel[:3] == (2,2,2):\n",
    "            pixeldata[i] = (2,2,2,0)\n",
    "\n",
    "    for i,pixel in enumerate(pixeldata):                                #for class 1 (plane roof)\n",
    "        if pixel[:3] == (1,1,1):\n",
    "            pixeldata[i] = (1,1,2,0)\n",
    "\n",
    "    img2 = img2.putdata(pixeldata) \n",
    "    return (img2)"
   ]
  },
  {
   "cell_type": "code",
   "execution_count": null,
   "metadata": {},
   "outputs": [
    {
     "name": "stderr",
     "output_type": "stream",
     "text": [
      "0.00s - Debugger warning: It seems that frozen modules are being used, which may\n",
      "0.00s - make the debugger miss breakpoints. Please pass -Xfrozen_modules=off\n",
      "0.00s - to python to disable frozen modules.\n",
      "0.00s - Note: Debugging will proceed. Set PYDEVD_DISABLE_FILE_VALIDATION=1 to disable this validation.\n",
      "0.00s - Debugger warning: It seems that frozen modules are being used, which may\n",
      "0.00s - make the debugger miss breakpoints. Please pass -Xfrozen_modules=off\n",
      "0.00s - to python to disable frozen modules.\n",
      "0.00s - Note: Debugging will proceed. Set PYDEVD_DISABLE_FILE_VALIDATION=1 to disable this validation.\n"
     ]
    },
    {
     "ename": "KeyboardInterrupt",
     "evalue": "",
     "output_type": "error",
     "traceback": [
      "\u001b[0;31m---------------------------------------------------------------------------\u001b[0m",
      "\u001b[0;31mKeyboardInterrupt\u001b[0m                         Traceback (most recent call last)",
      "\u001b[1;32m/Users/robertroskoden/Documents/DataScieneBootcampSPICED/ds-capestone-project-DW89/Notesbooks/Untitled-1.ipynb Cell 9\u001b[0m line \u001b[0;36m7\n\u001b[1;32m      <a href='vscode-notebook-cell:/Users/robertroskoden/Documents/DataScieneBootcampSPICED/ds-capestone-project-DW89/Notesbooks/Untitled-1.ipynb#X11sZmlsZQ%3D%3D?line=1'>2</a>\u001b[0m \u001b[39mfor\u001b[39;00m item \u001b[39min\u001b[39;00m LisDirIm:                                                   \u001b[39m#SubDir Lis from above loop, unpacking \u001b[39;00m\n\u001b[1;32m      <a href='vscode-notebook-cell:/Users/robertroskoden/Documents/DataScieneBootcampSPICED/ds-capestone-project-DW89/Notesbooks/Untitled-1.ipynb#X11sZmlsZQ%3D%3D?line=2'>3</a>\u001b[0m     \u001b[39m#----------------------------------------------------------------\u001b[39;00m\n\u001b[1;32m      <a href='vscode-notebook-cell:/Users/robertroskoden/Documents/DataScieneBootcampSPICED/ds-capestone-project-DW89/Notesbooks/Untitled-1.ipynb#X11sZmlsZQ%3D%3D?line=3'>4</a>\u001b[0m     \u001b[39m# loading images and making sure, that there are in the format RGB\u001b[39;00m\n\u001b[1;32m      <a href='vscode-notebook-cell:/Users/robertroskoden/Documents/DataScieneBootcampSPICED/ds-capestone-project-DW89/Notesbooks/Untitled-1.ipynb#X11sZmlsZQ%3D%3D?line=4'>5</a>\u001b[0m     \u001b[39m#----------------------------------------------------------------\u001b[39;00m\n\u001b[1;32m      <a href='vscode-notebook-cell:/Users/robertroskoden/Documents/DataScieneBootcampSPICED/ds-capestone-project-DW89/Notesbooks/Untitled-1.ipynb#X11sZmlsZQ%3D%3D?line=5'>6</a>\u001b[0m     img1 \u001b[39m=\u001b[39m Image\u001b[39m.\u001b[39mopen(item)\u001b[39m.\u001b[39mconvert(\u001b[39m\"\u001b[39m\u001b[39mRGB\u001b[39m\u001b[39m\"\u001b[39m)\n\u001b[0;32m----> <a href='vscode-notebook-cell:/Users/robertroskoden/Documents/DataScieneBootcampSPICED/ds-capestone-project-DW89/Notesbooks/Untitled-1.ipynb#X11sZmlsZQ%3D%3D?line=6'>7</a>\u001b[0m     img1\u001b[39m.\u001b[39mshow()\n\u001b[1;32m      <a href='vscode-notebook-cell:/Users/robertroskoden/Documents/DataScieneBootcampSPICED/ds-capestone-project-DW89/Notesbooks/Untitled-1.ipynb#X11sZmlsZQ%3D%3D?line=7'>8</a>\u001b[0m     img2 \u001b[39m=\u001b[39m Image\u001b[39m.\u001b[39mopen(LisDirMa[i])\n\u001b[1;32m      <a href='vscode-notebook-cell:/Users/robertroskoden/Documents/DataScieneBootcampSPICED/ds-capestone-project-DW89/Notesbooks/Untitled-1.ipynb#X11sZmlsZQ%3D%3D?line=8'>9</a>\u001b[0m     img2\u001b[39m.\u001b[39mshow()\n",
      "\u001b[1;32m/Users/robertroskoden/Documents/DataScieneBootcampSPICED/ds-capestone-project-DW89/Notesbooks/Untitled-1.ipynb Cell 9\u001b[0m line \u001b[0;36m7\n\u001b[1;32m      <a href='vscode-notebook-cell:/Users/robertroskoden/Documents/DataScieneBootcampSPICED/ds-capestone-project-DW89/Notesbooks/Untitled-1.ipynb#X11sZmlsZQ%3D%3D?line=1'>2</a>\u001b[0m \u001b[39mfor\u001b[39;00m item \u001b[39min\u001b[39;00m LisDirIm:                                                   \u001b[39m#SubDir Lis from above loop, unpacking \u001b[39;00m\n\u001b[1;32m      <a href='vscode-notebook-cell:/Users/robertroskoden/Documents/DataScieneBootcampSPICED/ds-capestone-project-DW89/Notesbooks/Untitled-1.ipynb#X11sZmlsZQ%3D%3D?line=2'>3</a>\u001b[0m     \u001b[39m#----------------------------------------------------------------\u001b[39;00m\n\u001b[1;32m      <a href='vscode-notebook-cell:/Users/robertroskoden/Documents/DataScieneBootcampSPICED/ds-capestone-project-DW89/Notesbooks/Untitled-1.ipynb#X11sZmlsZQ%3D%3D?line=3'>4</a>\u001b[0m     \u001b[39m# loading images and making sure, that there are in the format RGB\u001b[39;00m\n\u001b[1;32m      <a href='vscode-notebook-cell:/Users/robertroskoden/Documents/DataScieneBootcampSPICED/ds-capestone-project-DW89/Notesbooks/Untitled-1.ipynb#X11sZmlsZQ%3D%3D?line=4'>5</a>\u001b[0m     \u001b[39m#----------------------------------------------------------------\u001b[39;00m\n\u001b[1;32m      <a href='vscode-notebook-cell:/Users/robertroskoden/Documents/DataScieneBootcampSPICED/ds-capestone-project-DW89/Notesbooks/Untitled-1.ipynb#X11sZmlsZQ%3D%3D?line=5'>6</a>\u001b[0m     img1 \u001b[39m=\u001b[39m Image\u001b[39m.\u001b[39mopen(item)\u001b[39m.\u001b[39mconvert(\u001b[39m\"\u001b[39m\u001b[39mRGB\u001b[39m\u001b[39m\"\u001b[39m)\n\u001b[0;32m----> <a href='vscode-notebook-cell:/Users/robertroskoden/Documents/DataScieneBootcampSPICED/ds-capestone-project-DW89/Notesbooks/Untitled-1.ipynb#X11sZmlsZQ%3D%3D?line=6'>7</a>\u001b[0m     img1\u001b[39m.\u001b[39mshow()\n\u001b[1;32m      <a href='vscode-notebook-cell:/Users/robertroskoden/Documents/DataScieneBootcampSPICED/ds-capestone-project-DW89/Notesbooks/Untitled-1.ipynb#X11sZmlsZQ%3D%3D?line=7'>8</a>\u001b[0m     img2 \u001b[39m=\u001b[39m Image\u001b[39m.\u001b[39mopen(LisDirMa[i])\n\u001b[1;32m      <a href='vscode-notebook-cell:/Users/robertroskoden/Documents/DataScieneBootcampSPICED/ds-capestone-project-DW89/Notesbooks/Untitled-1.ipynb#X11sZmlsZQ%3D%3D?line=8'>9</a>\u001b[0m     img2\u001b[39m.\u001b[39mshow()\n",
      "File \u001b[0;32m~/.pyenv/versions/3.11.3/lib/python3.11/site-packages/debugpy/_vendored/pydevd/_pydevd_bundle/pydevd_frame.py:1197\u001b[0m, in \u001b[0;36mPyDBFrame.trace_dispatch\u001b[0;34m(self, frame, event, arg)\u001b[0m\n\u001b[1;32m   1195\u001b[0m \u001b[39mif\u001b[39;00m is_line:\n\u001b[1;32m   1196\u001b[0m     \u001b[39mself\u001b[39m\u001b[39m.\u001b[39mset_suspend(thread, step_cmd, original_step_cmd\u001b[39m=\u001b[39minfo\u001b[39m.\u001b[39mpydev_original_step_cmd)\n\u001b[0;32m-> 1197\u001b[0m     \u001b[39mself\u001b[39;49m\u001b[39m.\u001b[39;49mdo_wait_suspend(thread, frame, event, arg)\n\u001b[1;32m   1198\u001b[0m \u001b[39melif\u001b[39;00m is_return:  \u001b[39m# return event\u001b[39;00m\n\u001b[1;32m   1199\u001b[0m     back \u001b[39m=\u001b[39m frame\u001b[39m.\u001b[39mf_back\n",
      "File \u001b[0;32m~/.pyenv/versions/3.11.3/lib/python3.11/site-packages/debugpy/_vendored/pydevd/_pydevd_bundle/pydevd_frame.py:165\u001b[0m, in \u001b[0;36mPyDBFrame.do_wait_suspend\u001b[0;34m(self, *args, **kwargs)\u001b[0m\n\u001b[1;32m    164\u001b[0m \u001b[39mdef\u001b[39;00m \u001b[39mdo_wait_suspend\u001b[39m(\u001b[39mself\u001b[39m, \u001b[39m*\u001b[39margs, \u001b[39m*\u001b[39m\u001b[39m*\u001b[39mkwargs):\n\u001b[0;32m--> 165\u001b[0m     \u001b[39mself\u001b[39;49m\u001b[39m.\u001b[39;49m_args[\u001b[39m0\u001b[39;49m]\u001b[39m.\u001b[39;49mdo_wait_suspend(\u001b[39m*\u001b[39;49margs, \u001b[39m*\u001b[39;49m\u001b[39m*\u001b[39;49mkwargs)\n",
      "File \u001b[0;32m~/.pyenv/versions/3.11.3/lib/python3.11/site-packages/debugpy/_vendored/pydevd/pydevd.py:2070\u001b[0m, in \u001b[0;36mPyDB.do_wait_suspend\u001b[0;34m(self, thread, frame, event, arg, exception_type)\u001b[0m\n\u001b[1;32m   2067\u001b[0m             from_this_thread\u001b[39m.\u001b[39mappend(frame_custom_thread_id)\n\u001b[1;32m   2069\u001b[0m     \u001b[39mwith\u001b[39;00m \u001b[39mself\u001b[39m\u001b[39m.\u001b[39m_threads_suspended_single_notification\u001b[39m.\u001b[39mnotify_thread_suspended(thread_id, thread, stop_reason):\n\u001b[0;32m-> 2070\u001b[0m         keep_suspended \u001b[39m=\u001b[39m \u001b[39mself\u001b[39;49m\u001b[39m.\u001b[39;49m_do_wait_suspend(thread, frame, event, arg, suspend_type, from_this_thread, frames_tracker)\n\u001b[1;32m   2072\u001b[0m frames_list \u001b[39m=\u001b[39m \u001b[39mNone\u001b[39;00m\n\u001b[1;32m   2074\u001b[0m \u001b[39mif\u001b[39;00m keep_suspended:\n\u001b[1;32m   2075\u001b[0m     \u001b[39m# This means that we should pause again after a set next statement.\u001b[39;00m\n",
      "File \u001b[0;32m~/.pyenv/versions/3.11.3/lib/python3.11/site-packages/debugpy/_vendored/pydevd/pydevd.py:2106\u001b[0m, in \u001b[0;36mPyDB._do_wait_suspend\u001b[0;34m(self, thread, frame, event, arg, suspend_type, from_this_thread, frames_tracker)\u001b[0m\n\u001b[1;32m   2103\u001b[0m         \u001b[39mself\u001b[39m\u001b[39m.\u001b[39m_call_input_hook()\n\u001b[1;32m   2105\u001b[0m     \u001b[39mself\u001b[39m\u001b[39m.\u001b[39mprocess_internal_commands()\n\u001b[0;32m-> 2106\u001b[0m     time\u001b[39m.\u001b[39msleep(\u001b[39m0.01\u001b[39m)\n\u001b[1;32m   2108\u001b[0m \u001b[39mself\u001b[39m\u001b[39m.\u001b[39mcancel_async_evaluation(get_current_thread_id(thread), \u001b[39mstr\u001b[39m(\u001b[39mid\u001b[39m(frame)))\n\u001b[1;32m   2110\u001b[0m \u001b[39m# process any stepping instructions\u001b[39;00m\n",
      "\u001b[0;31mKeyboardInterrupt\u001b[0m: "
     ]
    }
   ],
   "source": [
    "i = 0\n",
    "for item in LisDirIm[0]:                                                   #SubDir Lis from above loop, unpacking \n",
    "    #----------------------------------------------------------------\n",
    "    # loading images and making sure, that there are in the format RGB\n",
    "    #----------------------------------------------------------------\n",
    "    img1 = Image.open(item).convert(\"RGB\")\n",
    "    #img1.show()\n",
    "    #img2 = Image.open(LisDirMa[i])\n",
    "    img2.show()\n",
    "    #----------------------------------------------------------------\n",
    "    # Chaning the apha value (transparency) of the Label roof top to tot\n",
    "    # total transparency\n",
    "    #----------------------------------------------------------------\n",
    "    #img2 = AlphaChanel(img2)  \n",
    "    pixeldata = list(img2.getdata())\n",
    "\n",
    "    \n",
    "  "
   ]
  },
  {
   "cell_type": "code",
   "execution_count": null,
   "metadata": {},
   "outputs": [],
   "source": [
    "for i,pixel in enumerate(pixeldata):                                #for class 2 (sattel roof)\n",
    "        if pixel[:3] == (2,2,2):\n",
    "            pixeldata[i] = (2,2,2,0)\n",
    "\n",
    "    for i,pixel in enumerate(pixeldata):                                #for class 1 (plane roof)\n",
    "        if pixel[:3] == (1,1,1):\n",
    "            pixeldata[i] = (1,1,2,0)\n",
    "\n",
    "    img2 = img2.putdata(pixeldata)                                           \n",
    "    #----------------------------------------------------------------\n",
    "    img1.paste(img2, (0,0), mask = img2)                                 #superimposing image\n",
    "    #Display image: \n",
    "    #----------------------------------------------------------------\n",
    "    img1.show()#only enable in testing mode, otherwise graphical overload. \n",
    "    #----------------------------------------------------------------\n",
    "    #Saving the image \n",
    "    #----------------------------------------------------------------\n",
    "    ImName = COP + LisMA[i] + '_CO.png'\n",
    "    img1.save(ImName)                           #---> NOT finished name must be dynamic! see next cell for current development\n",
    "    i += 1"
   ]
  }
 ],
 "metadata": {
  "kernelspec": {
   "display_name": "Python 3",
   "language": "python",
   "name": "python3"
  },
  "language_info": {
   "codemirror_mode": {
    "name": "ipython",
    "version": 3
   },
   "file_extension": ".py",
   "mimetype": "text/x-python",
   "name": "python",
   "nbconvert_exporter": "python",
   "pygments_lexer": "ipython3",
   "version": "3.11.3"
  }
 },
 "nbformat": 4,
 "nbformat_minor": 2
}
