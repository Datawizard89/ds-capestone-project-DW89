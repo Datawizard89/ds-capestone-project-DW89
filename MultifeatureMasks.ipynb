{
 "cells": [
  {
   "cell_type": "markdown",
   "metadata": {},
   "source": [
    "# Project Urban Rooftop Classification: Forth Notebook:Addresses and Lat/Long\n",
    "\n",
    "From the screenshot to the classification \n",
    "\n",
    "### Geospatial dataset: Pre-Processing masks after Label Studio\n",
    " "
   ]
  },
  {
   "cell_type": "code",
   "execution_count": 27,
   "metadata": {},
   "outputs": [],
   "source": [
    "#!pip install opencv-python \n",
    "import cv2\n",
    "#!pip install glob2 \n",
    "import glob\n",
    "import os\n",
    "import numpy as np\n",
    "from PIL import Image\n",
    "from matplotlib import pyplot as plt\n"
   ]
  },
  {
   "cell_type": "code",
   "execution_count": 64,
   "metadata": {},
   "outputs": [],
   "source": [
    "def CategorizeMask(HouseNotationLS, label_folder):\n",
    "    mask = np.zeros((400,400))\n",
    "    for filename in HouseNotationLS:\n",
    "        #print(filename)\n",
    "        if \"plane rooftop\" in filename:\n",
    "            #print(filename)\n",
    "            PlaneMask = cv2.imread(filename, cv2.IMREAD_GRAYSCALE)\n",
    "            #print(PlaneMask)\n",
    "            PlaneMask = np.where(PlaneMask>0, 1, PlaneMask)\n",
    "            mask = mask + PlaneMask\n",
    "            #plane_masks.append(PlaneMask)\n",
    "        elif \"sattel rooftop\" in filename:\n",
    "            #print(filename)\n",
    "            SattelMask = cv2.imread(filename, cv2.IMREAD_GRAYSCALE)\n",
    "            SattelMask = np.where(SattelMask>0, 2, SattelMask)\n",
    "            mask = mask + SattelMask\n",
    "            #sattel_masks.append(SattelMask)\n",
    "        elif \"Trees\" in filename:\n",
    "            #print(filename)\n",
    "            OtherMask = cv2.imread(filename, cv2.IMREAD_GRAYSCALE)\n",
    "            OtherMask = np.where(OtherMask>0, 0, OtherMask)\n",
    "            mask = mask + OtherMask\n",
    "            #Other_masks.append(OtherMask)\n",
    "    mask = np.where(mask>2, 2, mask) \n",
    "    return mask"
   ]
  },
  {
   "cell_type": "markdown",
   "metadata": {},
   "source": [
    "# For Train Data"
   ]
  },
  {
   "cell_type": "code",
   "execution_count": 65,
   "metadata": {},
   "outputs": [
    {
     "name": "stdout",
     "output_type": "stream",
     "text": [
      "['001_Steglitzer_Sate.png', '002_Attilastraße_Sate.png', '005_Attilastraße_Sate.png', '006_Attilastraße_Sate.png', '009_Alt-Lankwitz_Sate.png', '009_Ritterstraße_Sate.png', '010_Attilastraße_Sate.png', '012_Steglitzer_Sate.png', '014_Attilastraße_Sate.png', '017_Steglitzer_Sate.png', '020_Steglitzer_Sate.png', '022_Ritterstraße_Sate.png', '025_Steglitzer_Sate.png', '026_Ritterstraße_Sate.png', '028_Steglitzer_Sate.png', '029_Attilastraße_Sate.png', '031_Ritterstraße_Sate.png', '034_Steglitzer_Sate.png', '035_Ritterstraße_Sate.png', '039_Alt-Lankwitz_Sate.png', '039_Steglitzer_Sate.png', '041_Ritterstraße_Sate.png', '042_Ritterstraße_Sate.png', '042_Steglitzer_Sate.png', '045_Ritterstraße_Sate.png', '047_Steglitzer_Sate.png', '048_Alt-Lankwitz_Sate.png', '049_Alt-Lankwitz_Sate.png', '052_Ritterstraße_Sate.png', '056_Ritterstraße_Sate.png', '056_Steglitzer_Sate.png', '059_Attilastraße_Sate.png', '060_Attilastraße_Sate.png', '061_Steglitzer_Sate.png', '064_Attilastraße_Sate.png', '070_Steglitzer_Sate.png', '075_Steglitzer_Sate.png', '078_Ritterstraße_Sate.png', '079_Alt-Lankwitz_Sate.png', '081_Alt-Lankwitz_Sate.png', '082_Steglitzer_Sate.png', '086_Alt-Lankwitz_Sate.png', '088_Ritterstraße_Sate.png', '093_Alt-Lankwitz_Sate.png', '093_Steglitzer_Sate.png', '094_Alt-Lankwitz_Sate.png', '107_Steglitzer.png', '109_Ritterstraße.png', '111_Attilastraße_Sate.png', '112_Attilastraße_Sate.png', '116_Attilastraße_Sate.png', '116_Steglitzer_Sate.png', '119_Ritterstraße_Sate.png', '120_Ritterstraße_Sate.png', '121_Steglitzer_Sate.png', '124_Ritterstraße_Sate.png', '138_Attilastraße_Sate.png', '148_Attilastraße_Sate.png', '162_Attilastraße_Sate.png', '166_Attilastraße_Sate.png', '171_Attilastraße_Sate.png', '175_Attilastraße_Sate.png']\n",
      "62\n"
     ]
    }
   ],
   "source": [
    " #setting counter\n",
    "label_folder = '/Users/robertroskoden/Documents/DataScieneBootcampSPICED/ds-capestone-project-DW89/data/data_for_training_and_testing/Masks/project-1-at-2023-10-09-17-47-ded5770a/Train_set'\n",
    "TFileName = sorted(os.listdir('/Users/robertroskoden/Documents/DataScieneBootcampSPICED/ds-capestone-project-DW89/data/Data/Im/Orginal'))\n",
    "if '.DS_Store'  in TFileName:                   # making sure there are not .DS_Store files\n",
    "    print(TFileName)\n",
    "    TFileName.pop(0)\n",
    "    print(TFileName)\n",
    "print(TFileName)\n",
    "print(len(TFileName))\n",
    "InNamePath = '/Users/robertroskoden/Documents/DataScieneBootcampSPICED/ds-capestone-project-DW89/data/data_for_training_and_testing/Masks/MultiMasks/NoTrees/Train/'\n"
   ]
  },
  {
   "cell_type": "code",
   "execution_count": 66,
   "metadata": {},
   "outputs": [
    {
     "name": "stdout",
     "output_type": "stream",
     "text": [
      "1\n",
      "[0. 1. 2.]\n",
      "2\n",
      "[0. 2.]\n",
      "3\n",
      "[0. 2.]\n",
      "4\n",
      "[0. 2.]\n",
      "5\n",
      "[0. 2.]\n",
      "6\n",
      "[0. 2.]\n",
      "7\n",
      "[0. 1. 2.]\n",
      "8\n",
      "[0.]\n",
      "9\n",
      "[0. 2.]\n",
      "10\n",
      "[0. 2.]\n",
      "11\n",
      "[0. 1.]\n",
      "12\n",
      "[0. 1.]\n",
      "13\n",
      "[0. 2.]\n",
      "14\n",
      "[0. 1.]\n",
      "15\n",
      "[0. 1. 2.]\n",
      "16\n",
      "[0. 2.]\n",
      "17\n",
      "[0. 1.]\n",
      "18\n",
      "[0. 1. 2.]\n",
      "19\n",
      "[0. 1.]\n",
      "20\n",
      "[0. 2.]\n",
      "21\n",
      "[0. 2.]\n",
      "22\n",
      "[0. 2.]\n",
      "23\n",
      "[0. 2.]\n",
      "24\n",
      "[0. 1. 2.]\n",
      "25\n",
      "[0. 2.]\n",
      "26\n",
      "[0. 1.]\n",
      "27\n",
      "[0. 1. 2.]\n",
      "28\n",
      "[0. 1.]\n",
      "29\n",
      "[0.]\n",
      "30\n",
      "[0. 1. 2.]\n",
      "31\n",
      "[0. 1. 2.]\n",
      "32\n",
      "[0. 1. 2.]\n",
      "33\n",
      "[0. 2.]\n",
      "34\n",
      "[0.]\n",
      "35\n",
      "[0.]\n",
      "36\n",
      "[0. 1. 2.]\n",
      "37\n",
      "[0. 1.]\n",
      "38\n",
      "[0. 1.]\n",
      "39\n",
      "[0. 2.]\n",
      "40\n",
      "[0. 2.]\n",
      "41\n",
      "[0. 1.]\n",
      "42\n",
      "[0. 1.]\n",
      "43\n",
      "[0. 2.]\n",
      "44\n",
      "[0. 1.]\n",
      "45\n",
      "[0.]\n",
      "46\n",
      "[0. 1. 2.]\n",
      "47\n",
      "[0. 1.]\n",
      "48\n",
      "[0. 1.]\n",
      "49\n",
      "[0. 2.]\n",
      "50\n",
      "[0. 2.]\n",
      "51\n",
      "[0. 2.]\n",
      "52\n",
      "[0. 1. 2.]\n",
      "53\n",
      "[0. 1. 2.]\n",
      "54\n",
      "[0. 1. 2.]\n",
      "55\n",
      "[0. 2.]\n",
      "56\n",
      "[0. 1.]\n",
      "57\n",
      "[0. 1. 2.]\n",
      "58\n",
      "[0. 1. 2.]\n",
      "59\n",
      "[0. 1. 2.]\n",
      "60\n",
      "[0. 2.]\n",
      "61\n",
      "[0. 2.]\n",
      "62\n",
      "[0. 1. 2.]\n"
     ]
    }
   ],
   "source": [
    "F1 = []                                                         #creating empty list for\n",
    "OneHouse = []                                                   #creating empty list for\n",
    "counter = 1 \n",
    "##########################################################################################################################################################\n",
    "################### Loop to list masked and save them with a new name ####################################################################################\n",
    "##########################################################################################################################################################\n",
    "for i in range(0,62): #because there 62 images \n",
    "    F0 = 'task-' + str(counter) +'-*'\n",
    "    F1.append(F0)\n",
    "    NewTask = os.path.join(label_folder, F1[i] )\n",
    "    HouseNotationLS = glob.glob(NewTask)\n",
    "    mask = CategorizeMask(HouseNotationLS, label_folder)\n",
    "    #print(i)\n",
    "    #print(TFileName[i])\n",
    "    ImName = InNamePath + TFileName[i]#+ TFileName[i] \n",
    "    np.save('ImName', mask)\n",
    "    ImName2 = ImName #+'.png'\n",
    "    cv2.imwrite(ImName2, mask)\n",
    "    print(counter)\n",
    "    print(np.unique(mask))\n",
    "    counter += 1"
   ]
  },
  {
   "cell_type": "code",
   "execution_count": 67,
   "metadata": {},
   "outputs": [
    {
     "name": "stdout",
     "output_type": "stream",
     "text": [
      "[0. 1. 2.]\n"
     ]
    }
   ],
   "source": [
    "print(np.unique(mask))"
   ]
  },
  {
   "cell_type": "markdown",
   "metadata": {},
   "source": [
    "## Same for Val Data"
   ]
  },
  {
   "cell_type": "code",
   "execution_count": 68,
   "metadata": {},
   "outputs": [
    {
     "name": "stdout",
     "output_type": "stream",
     "text": [
      "18\n"
     ]
    }
   ],
   "source": [
    " #setting counter\n",
    "label_folder = '/Users/robertroskoden/Documents/DataScieneBootcampSPICED/ds-capestone-project-DW89/data/data_for_training_and_testing/Masks/project-1-at-2023-10-09-17-47-ded5770a/Val-Set'\n",
    "TFileName = sorted(os.listdir('/Users/robertroskoden/Documents/DataScieneBootcampSPICED/ds-capestone-project-DW89/data/Data/Im/Extra'))\n",
    "if '.DS_Store'  in TFileName:                   # making sure there are not .DS_Store files\n",
    "    print(TFileName)\n",
    "    TFileName.pop(0)\n",
    "    print(TFileName)\n",
    "print(len(TFileName))\n",
    "InNamePath = '/Users/robertroskoden/Documents/DataScieneBootcampSPICED/ds-capestone-project-DW89/data/data_for_training_and_testing/Masks/MultiMasks/NoTrees/Val/'"
   ]
  },
  {
   "cell_type": "code",
   "execution_count": 69,
   "metadata": {},
   "outputs": [
    {
     "name": "stdout",
     "output_type": "stream",
     "text": [
      "63\n",
      "[0.]\n",
      "64\n",
      "[0. 2.]\n",
      "65\n",
      "[0. 1. 2.]\n",
      "66\n",
      "[0. 2.]\n",
      "67\n",
      "[0. 2.]\n",
      "68\n",
      "[0. 2.]\n",
      "69\n",
      "[0. 1.]\n",
      "70\n",
      "[0. 1.]\n",
      "71\n",
      "[0. 2.]\n",
      "72\n",
      "[0. 1.]\n",
      "73\n",
      "[0. 1.]\n",
      "74\n",
      "[0. 2.]\n",
      "75\n",
      "[0. 1. 2.]\n",
      "76\n",
      "[0. 2.]\n",
      "77\n",
      "[0. 1.]\n",
      "78\n",
      "[0. 2.]\n",
      "79\n",
      "[0.]\n",
      "80\n",
      "[0. 1. 2.]\n"
     ]
    }
   ],
   "source": [
    "F1 = []                                                         #creating empty list for\n",
    "OneHouse = []                                                   #creating empty list for\n",
    "counter = 63 \n",
    "counter2 = 0\n",
    "##########################################################################################################################################################\n",
    "################### Loop to list masked and save them with a new name ####################################################################################\n",
    "##########################################################################################################################################################\n",
    "for i in range(63,81): #because there 62 images \n",
    "    F0 = 'task-' + str(counter) +'-*'\n",
    "    F1.append(F0)\n",
    "    NewTask = os.path.join(label_folder, F1[counter2] )\n",
    "    HouseNotationLS = glob.glob(NewTask)\n",
    "    mask = CategorizeMask(HouseNotationLS, label_folder)\n",
    "    #print(i)\n",
    "    #print(TFileName[i])\n",
    "    ImName =InNamePath + TFileName[counter2]#'task-' +  str(counter) \n",
    "    np.save('ImName', mask)\n",
    "    ImName2 = ImName #+'.png'\n",
    "    cv2.imwrite(ImName2, mask)\n",
    "    print(counter)\n",
    "    print(np.unique(mask))\n",
    "    counter += 1\n",
    "    counter2 += 1"
   ]
  },
  {
   "cell_type": "code",
   "execution_count": 54,
   "metadata": {},
   "outputs": [
    {
     "name": "stdout",
     "output_type": "stream",
     "text": [
      "(400, 400)\n",
      "<class 'numpy.ndarray'>\n",
      "[0. 1. 2.]\n"
     ]
    }
   ],
   "source": [
    "#import pandas as pd\n",
    "print(mask.shape)\n",
    "print(type(mask))\n",
    "print(np.unique(mask))"
   ]
  }
 ],
 "metadata": {
  "kernelspec": {
   "display_name": "Python 3",
   "language": "python",
   "name": "python3"
  },
  "language_info": {
   "codemirror_mode": {
    "name": "ipython",
    "version": 3
   },
   "file_extension": ".py",
   "mimetype": "text/x-python",
   "name": "python",
   "nbconvert_exporter": "python",
   "pygments_lexer": "ipython3",
   "version": "3.11.3"
  },
  "orig_nbformat": 4
 },
 "nbformat": 4,
 "nbformat_minor": 2
}
