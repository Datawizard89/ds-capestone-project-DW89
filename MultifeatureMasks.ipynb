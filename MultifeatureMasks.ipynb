{
 "cells": [
  {
   "cell_type": "markdown",
   "metadata": {},
   "source": [
    "# Project Urban Rooftop Classification: First Notebook:Addresses and Lat/Long\n",
    "\n",
    "From the screenshot to the classification \n",
    "\n",
    "### Geospatial dataset: Pre-Processing masks after Label Studio\n",
    " "
   ]
  },
  {
   "cell_type": "code",
   "execution_count": 1,
   "metadata": {},
   "outputs": [],
   "source": [
    "#!pip install opencv-python \n",
    "import cv2\n",
    "#!pip install glob2 \n",
    "import glob\n",
    "import os\n",
    "import numpy as np\n",
    "from PIL import Image\n",
    "from matplotlib import pyplot as plt\n"
   ]
  },
  {
   "cell_type": "code",
   "execution_count": 2,
   "metadata": {},
   "outputs": [],
   "source": [
    "def CategorizeMask(HouseNotationLS, label_folder):\n",
    "    mask = np.zeros((400,400))\n",
    "    for filename in HouseNotationLS:\n",
    "        #print(filename)\n",
    "        if \"plane rooftop\" in filename:\n",
    "            #print(filename)\n",
    "            PlaneMask = cv2.imread(filename, cv2.IMREAD_GRAYSCALE)\n",
    "            #print(PlaneMask)\n",
    "            PlaneMask = np.where(PlaneMask>0, 1, PlaneMask)\n",
    "            mask = mask + PlaneMask\n",
    "            #plane_masks.append(PlaneMask)\n",
    "        elif \"sattel rooftop\" in filename:\n",
    "            #print(filename)\n",
    "            SattelMask = cv2.imread(filename, cv2.IMREAD_GRAYSCALE)\n",
    "            SattelMask = np.where(SattelMask>0, 2, SattelMask)\n",
    "            mask = mask + SattelMask\n",
    "            #sattel_masks.append(SattelMask)\n",
    "        elif \"Trees\" in filename:\n",
    "            #print(filename)\n",
    "            OtherMask = cv2.imread(filename, cv2.IMREAD_GRAYSCALE)\n",
    "            OtherMask = np.where(OtherMask>0, 3, OtherMask)\n",
    "            mask = mask + OtherMask\n",
    "            #Other_masks.append(OtherMask)\n",
    "\n",
    "    return mask"
   ]
  },
  {
   "cell_type": "code",
   "execution_count": 3,
   "metadata": {},
   "outputs": [
    {
     "name": "stdout",
     "output_type": "stream",
     "text": [
      "62\n"
     ]
    }
   ],
   "source": [
    "F1 = []                                                         #creating empty list for\n",
    "OneHouse = []                                                   #creating empty list for\n",
    "counter = 1                                                     #setting counter\n",
    "label_folder = '/Users/robertroskoden/Documents/DataScieneBootcampSPICED/ds-capestone-project-DW89/data/data_for_training_and_testing/Masks/project-1-at-2023-10-09-11-50-a17a6340'\n",
    "TFileName = sorted(os.listdir('/Users/robertroskoden/Documents/DataScieneBootcampSPICED/ds-capestone-project-DW89/data/data_for_training_and_testing/Images'))\n",
    "TFileName.pop(0)\n",
    "#print(len(TFileName))\n",
    "InNamePath = '/Users/robertroskoden/Documents/DataScieneBootcampSPICED/ds-capestone-project-DW89/data/data_for_training_and_testing/Masks/Test/'\n"
   ]
  },
  {
   "cell_type": "code",
   "execution_count": null,
   "metadata": {},
   "outputs": [],
   "source": [
    "\n",
    "##########################################################################################################################################################\n",
    "################### Loop to list masked and save them with a new name ####################################################################################\n",
    "##########################################################################################################################################################\n",
    "for i in range(0,62):#because there 62 images \n",
    "    F0 = 'task-' + str(counter) +'-*'\n",
    "    F1.append(F0)\n",
    "    NewTask = os.path.join(label_folder, F1[i] )\n",
    "    HouseNotationLS = glob.glob(NewTask)\n",
    "    mask = CategorizeMask(HouseNotationLS, label_folder)\n",
    "    #print(i)\n",
    "    #print(TFileName[i])\n",
    "    ImName ='/Users/robertroskoden/Documents/DataScieneBootcampSPICED/ds-capestone-project-DW89/data/data_for_training_and_testing/Masks/Test/' + TFileName[i] \n",
    "    np.save('ImName', mask)\n",
    "    ImName2 = ImName +'.png'\n",
    "    cv2.imwrite(ImName2, mask)\n",
    "    print(counter)\n",
    "    counter += 1"
   ]
  },
  {
   "cell_type": "code",
   "execution_count": 14,
   "metadata": {},
   "outputs": [
    {
     "name": "stdout",
     "output_type": "stream",
     "text": [
      "(400, 400)\n",
      "<class 'numpy.ndarray'>\n",
      "[0. 1. 2. 3. 4.]\n"
     ]
    }
   ],
   "source": [
    "#import pandas as pd\n",
    "print(mask.shape)\n",
    "print(type(mask))\n",
    "print(np.unique(mask))"
   ]
  }
 ],
 "metadata": {
  "kernelspec": {
   "display_name": "Python 3",
   "language": "python",
   "name": "python3"
  },
  "language_info": {
   "codemirror_mode": {
    "name": "ipython",
    "version": 3
   },
   "file_extension": ".py",
   "mimetype": "text/x-python",
   "name": "python",
   "nbconvert_exporter": "python",
   "pygments_lexer": "ipython3",
   "version": "3.11.3"
  },
  "orig_nbformat": 4
 },
 "nbformat": 4,
 "nbformat_minor": 2
}
