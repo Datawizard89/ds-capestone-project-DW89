{
 "cells": [
  {
   "cell_type": "markdown",
   "metadata": {},
   "source": [
    "# Project Urban Rooftop Classification: First Notebook:Addresses and Lat/Long\n",
    "\n",
    "From the screenshot to the classification \n",
    "\n",
    "### Geospatial dataset: Adressess:\n",
    "\n",
    "In order to build up a low coast (unfortunately not completely free, API Google Static is 2 USD for 1000 images) Geospatial Data Base for a rooftop classification from scratch \n",
    "\n",
    "At first we need addresses of roofs. Fortunately address (Street Name and House Numbers) are available for free on different websites such as \n",
    "\n",
    "[Berliner Straßen](https://berlin.kauperts.de/Strassen/Alt-Lankwitz-12247-Berlin)\n",
    "\n",
    "Furthermore, we want the the Lat/Long coordinates of the buildings, which can be obtained for example here:\n",
    "\n",
    "[Adress2LatLong](https://www.latlong.net/convert-address-to-lat-long.html) via Web scraping\n",
    "\n",
    "or the addresses can be obtained via geopy. A good tutorial on how to use geopy can be found here:\n",
    "[GeoPy](https://www.askpython.com/python/python-geopy-to-find-geocode-of-an-address)\n",
    "\n",
    "\n",
    "In this notebpook i will explore the GeoPy libary. Lets start with one address as an example: Ritterstr. 12, 10969 Berlin (Spiced Academy) \n",
    "\n"
   ]
  },
  {
   "cell_type": "code",
   "execution_count": 1,
   "metadata": {},
   "outputs": [],
   "source": [
    "# In case geopy is not installed yet run:\n",
    "#!pip install geopy"
   ]
  },
  {
   "cell_type": "code",
   "execution_count": 2,
   "metadata": {},
   "outputs": [],
   "source": [
    "# importing needed libaries:\n",
    "from geopy.geocoders import Nominatim\n",
    "import pandas as pd\n",
    "import os\n"
   ]
  },
  {
   "cell_type": "code",
   "execution_count": 3,
   "metadata": {},
   "outputs": [
    {
     "name": "stdout",
     "output_type": "stream",
     "text": [
      "Yafo, 12, Ritterstraße, Luisenstadt, Kreuzberg, Friedrichshain-Kreuzberg, Berlin, 10969, Deutschland\n",
      "(52.5020453, 13.4108962)\n"
     ]
    }
   ],
   "source": [
    "# The geocolactor uses one out of three geocoder ArcGIS, Google Maps, and Nominatim. Google Maps needs your own API key, \n",
    "# whereas Nominatim uses and in build api requests\n",
    "geolocator = Nominatim(user_agent=\"http\")\n",
    "# location is an object in which the local spatial information are saved in\n",
    "location = geolocator.geocode(\"12 Ritterstraße Berlin 10969\")\n",
    "print(location.address)#getting the address as found in the geolocator\n",
    "print((location.latitude, location.longitude)) #getting the corresponding latitude and longitude\n"
   ]
  },
  {
   "cell_type": "markdown",
   "metadata": {},
   "source": [
    "## Building addresses\n",
    "\n",
    "Alright that seems like it worked out quite alright for one example. Lets see if we can generate a bunch of addresses with the help of [Berliner Straßen](https://berlin.kauperts.de/Strassen/Alt-Lankwitz-12247-Berlin)\n",
    "\n",
    "\n",
    "For my project I am thinking about investigating 3 to 5 different streets in Berlin with different urban/ suburban attributes: Suburban: Alt-Lankwitz-12247-Berlin, Nr. 2-108, Urban: Ritterstraße-10969-Berlin, Nr. 1-127 and mixed urban/suburban streets : Attilastr-12105-Berlin, Nr. 1-68, 108-180 (Attilastr. is crossing to districts in Berlin: Steglitz and Tempelhof, I chose Tempelhof because it has a good mix of one family and multifamily houses) and Steglitzer-Damm-12169-Berlin, Nr. 1-128"
   ]
  },
  {
   "cell_type": "code",
   "execution_count": 6,
   "metadata": {},
   "outputs": [
    {
     "name": "stdout",
     "output_type": "stream",
     "text": [
      "Very good we created Suburban addresses in the format: House# StrName ZIP-Code City Country: 2 Alt-Lankwitz 12247 Berlin \n",
      "You created 107 addresses\n"
     ]
    }
   ],
   "source": [
    "# Generating Suburban Addresses for one street \n",
    "StrName = \"Alt-Lankwitz\" # defining street name / can be changed to dynamic coding to user input\n",
    "PLZ = \"12247\" # defining ZIP-code / can be changed to dynamic coding to user input\n",
    "HNum = [k for k in range(2,109)] # Creating the house numbers \n",
    "Address = \" \" # defining format of Address -> str\n",
    "AddressesSUrb = list() # defining format of Address -> list of str. \n",
    "for item in HNum: #looping through the house numbers, changing their format to str and putting the address together\n",
    "    Address = str(item) +\" \"+ StrName +\" \"+ PLZ + \" \" + \"Berlin\" + \" \" #+ \"Germany\"\n",
    "    AddressesSUrb.append(Address) # to save/append them to the addresses list\n",
    "# to check if the address format is alright \n",
    "print(f'Very good we created suburban addresses in the format: House# StrName ZIP-Code City Country: {AddressesSUrb[0]}')\n",
    "print(f'You created {len(AddressesSUrb)} addresses')"
   ]
  },
  {
   "cell_type": "code",
   "execution_count": 7,
   "metadata": {},
   "outputs": [
    {
     "name": "stdout",
     "output_type": "stream",
     "text": [
      "Very good we created Suburban addresses in the format: House# StrName ZIP-Code City Germany: 1 Attilastraße 12105 Berlin\n",
      "You created 141 addresses\n"
     ]
    }
   ],
   "source": [
    "# Now we can do the same with the other streets: suburban streets : Attilastraße-12105-Berlin, Nr. 1-68, 108-180\n",
    "# Generating Suburban Addresses for one street \n",
    "StrName = \"Attilastraße\" # defining street name / can be changed to dynamic coding to user input\n",
    "PLZ = \"12105\" # defining ZIP-code / can be changed to dynamic coding to user input\n",
    "HNum = [k for k in range(1,69)] # Creating the house numbers \n",
    "HNum_cont = [k for k in range(108,181)] # Creating the house numbers \n",
    "HNum.extend(HNum_cont) # Note here the numbers are not coherent (its a Berlin issue)\n",
    "Address = \" \" # defining format of Address -> str\n",
    "AddressesSUrb2 = list() # defining format of Address -> list of str. \n",
    "for item in HNum: #looping through the house numbers, changing their format to str and putting the address together\n",
    "    Address = str(item) +\" \"+ StrName +\" \"+ PLZ + \" \" + \"Berlin\"\n",
    "    AddressesSUrb2.append(Address) # to save/append them to the addresses list\n",
    "# to check if the address format is alright \n",
    "print(f'Very good we created suburban addresses in the format: House# StrName ZIP-Code City Germany: {AddressesSUrb2[0]}')\n",
    "print(f'You created {len(AddressesSUrb2)} addresses')"
   ]
  },
  {
   "cell_type": "code",
   "execution_count": 8,
   "metadata": {},
   "outputs": [
    {
     "name": "stdout",
     "output_type": "stream",
     "text": [
      "Very good we created Suburban addresses in the format: House# StrName ZIP-Code City Germany: 1 Steglitzer Damm 12169 Berlin\n",
      "You created 128 addresses\n"
     ]
    }
   ],
   "source": [
    "# Now we can do the same with the other streets: suburbanmix streets : Steglitzer-Damm-12169-Berlin, Nr. 1-128\n",
    "# Generating Suburban Addresses for one street \n",
    "StrName = \"Steglitzer Damm\" # defining street name / can be changed to dynamic coding to user input\n",
    "PLZ = \"12169\" # defining ZIP-code / can be changed to dynamic coding to user input\n",
    "HNum = [k for k in range(1,129)] # Creating the house numbers \n",
    "Address = \" \" # defining format of Address -> str\n",
    "AddressesSUrbMix = list() # defining format of Address -> list of str. \n",
    "for item in HNum: #looping through the house numbers, changing their format to str and putting the address together\n",
    "    Address = str(item) +\" \"+ StrName +\" \"+ PLZ + \" \" + \"Berlin\"\n",
    "    AddressesSUrbMix.append(Address) # to save/append them to the addresses list\n",
    "\n",
    "# to check if the address format is alright \n",
    "print(f'Very good we created SuburbanMix addresses in the format: House# StrName ZIP-Code City Germany: {AddressesSUrbMix[0]}')\n",
    "print(f'You created {len(AddressesSUrbMix)} addresses')"
   ]
  },
  {
   "cell_type": "code",
   "execution_count": 9,
   "metadata": {},
   "outputs": [
    {
     "name": "stdout",
     "output_type": "stream",
     "text": [
      "Very good we created Suburban addresses in the format: House# StrName ZIP-Code City Germany: 1 Ritterstraße 10969 Berlin\n",
      "You created 124 addresses\n"
     ]
    }
   ],
   "source": [
    "# Now we can do the same with the other streets: urban streets : Ritterstraße-10969-Berlin, Nr. 1-127\n",
    "# Generating Suburban Addresses for one street \n",
    "StrName = \"Ritterstraße\" # defining street name / can be changed to dynamic coding to user input\n",
    "PLZ = \"10969\" # defining ZIP-code / can be changed to dynamic coding to user input\n",
    "HNum = [k for k in range(1,125)] # Creating the house numbers \n",
    "Address = \" \" # defining format of Address -> str\n",
    "AddressesUrban = list() # defining format of Address -> list of str. \n",
    "for item in HNum: #looping through the house numbers, changing their format to str and putting the address together\n",
    "    Address = str(item) +\" \"+ StrName +\" \"+ PLZ + \" \" + \"Berlin\"\n",
    "    AddressesUrban.append(Address) # to save/append them to the addresses list\n",
    "\n",
    "# to check if the address format is alright \n",
    "print(f'Very good we created Urban addresses in the format: House# StrName ZIP-Code City Germany: {AddressesUrban[0]}')\n",
    "print(f'You created {len(AddressesUrban)} addresses')"
   ]
  },
  {
   "cell_type": "code",
   "execution_count": 10,
   "metadata": {},
   "outputs": [
    {
     "name": "stdout",
     "output_type": "stream",
     "text": [
      " You created in total of 500\n",
      "       addresses\n"
     ]
    }
   ],
   "source": [
    "# Lets check out how many addresses we have in total:\n",
    "print(f''' You created in total of {len(AddressesUrban) +len(AddressesSUrb) + len(AddressesSUrb2) + len(AddressesSUrbMix)}\n",
    "       addresses''')"
   ]
  },
  {
   "cell_type": "code",
   "execution_count": 11,
   "metadata": {},
   "outputs": [],
   "source": [
    "#lets put them all together into one single list \n",
    "Adresses = []\n",
    "Adresses.extend(AddressesUrban)\n",
    "Adresses.extend(AddressesSUrb)\n",
    "Adresses.extend(AddressesSUrb2)\n",
    "Adresses.extend(AddressesSUrbMix)"
   ]
  },
  {
   "cell_type": "markdown",
   "metadata": {},
   "source": [
    "### Next we will get the Lat/Long coordinates with location.latitude and location.long"
   ]
  },
  {
   "cell_type": "code",
   "execution_count": 12,
   "metadata": {},
   "outputs": [],
   "source": [
    "# initiating the the geolocator Nominatim\n",
    "geolocator = Nominatim(user_agent=\"http\")\n",
    "\n",
    "# Initialize list and help variables \n",
    "counter = 0\n",
    "LatCor = []\n",
    "LongCor = []\n",
    "# unfortunately we have to loop through manually due to the request limitations for the website (4 min, 15.5 sec, \n",
    "# dont let the computer go into sleeping mode)\n",
    "for i in range(0, len(Adresses)):\n",
    "    counter  += 1\n",
    "    \n",
    "    location = geolocator.geocode(Adresses[i])\n",
    "    LatCor.append(location.latitude)\n",
    "    LongCor.append(location.longitude)\n",
    "    #print(location) #print() #print(counter)\n"
   ]
  },
  {
   "cell_type": "code",
   "execution_count": 27,
   "metadata": {},
   "outputs": [
    {
     "name": "stdout",
     "output_type": "stream",
     "text": [
      "<class 'list'>\n",
      "<class 'list'>\n"
     ]
    },
    {
     "data": {
      "text/html": [
       "<div>\n",
       "<style scoped>\n",
       "    .dataframe tbody tr th:only-of-type {\n",
       "        vertical-align: middle;\n",
       "    }\n",
       "\n",
       "    .dataframe tbody tr th {\n",
       "        vertical-align: top;\n",
       "    }\n",
       "\n",
       "    .dataframe thead th {\n",
       "        text-align: right;\n",
       "    }\n",
       "</style>\n",
       "<table border=\"1\" class=\"dataframe\">\n",
       "  <thead>\n",
       "    <tr style=\"text-align: right;\">\n",
       "      <th></th>\n",
       "      <th>Address</th>\n",
       "      <th>Long</th>\n",
       "      <th>Lat</th>\n",
       "    </tr>\n",
       "  </thead>\n",
       "  <tbody>\n",
       "    <tr>\n",
       "      <th>0</th>\n",
       "      <td>1 Ritterstraße 10969 Berlin</td>\n",
       "      <td>13.413797</td>\n",
       "      <td>52.500577</td>\n",
       "    </tr>\n",
       "    <tr>\n",
       "      <th>1</th>\n",
       "      <td>2 Ritterstraße 10969 Berlin</td>\n",
       "      <td>13.413585</td>\n",
       "      <td>52.500680</td>\n",
       "    </tr>\n",
       "    <tr>\n",
       "      <th>2</th>\n",
       "      <td>3 Ritterstraße 10969 Berlin</td>\n",
       "      <td>13.413377</td>\n",
       "      <td>52.501215</td>\n",
       "    </tr>\n",
       "    <tr>\n",
       "      <th>3</th>\n",
       "      <td>4 Ritterstraße 10969 Berlin</td>\n",
       "      <td>13.320881</td>\n",
       "      <td>52.433071</td>\n",
       "    </tr>\n",
       "    <tr>\n",
       "      <th>4</th>\n",
       "      <td>5 Ritterstraße 10969 Berlin</td>\n",
       "      <td>13.320525</td>\n",
       "      <td>52.433183</td>\n",
       "    </tr>\n",
       "  </tbody>\n",
       "</table>\n",
       "</div>"
      ],
      "text/plain": [
       "                       Address       Long        Lat\n",
       "0  1 Ritterstraße 10969 Berlin  13.413797  52.500577\n",
       "1  2 Ritterstraße 10969 Berlin  13.413585  52.500680\n",
       "2  3 Ritterstraße 10969 Berlin  13.413377  52.501215\n",
       "3  4 Ritterstraße 10969 Berlin  13.320881  52.433071\n",
       "4  5 Ritterstraße 10969 Berlin  13.320525  52.433183"
      ]
     },
     "execution_count": 27,
     "metadata": {},
     "output_type": "execute_result"
    }
   ],
   "source": [
    "# That took a longer than hoped for but that should be ok, now that we have the Adresses and the Long/Lat\n",
    "# Its time to save the data in DF to a csv file\n",
    "print(type(LongCor))\n",
    "print(type(Adresses))\n",
    "df_add = pd.DataFrame({'Address':Adresses, 'Long':LongCor, 'Lat':LatCor})\n",
    "df_add.head()"
   ]
  },
  {
   "cell_type": "code",
   "execution_count": 29,
   "metadata": {},
   "outputs": [],
   "source": [
    "foldername = 'data'\n",
    "if os.path.isdir(foldername) == 0:\n",
    "    os.mkdir('data')\n",
    "\n",
    "df_add.to_csv('data/addressesLatLong.csv',index_label='Index')"
   ]
  }
 ],
 "metadata": {
  "kernelspec": {
   "display_name": "Python 3",
   "language": "python",
   "name": "python3"
  },
  "language_info": {
   "codemirror_mode": {
    "name": "ipython",
    "version": 3
   },
   "file_extension": ".py",
   "mimetype": "text/x-python",
   "name": "python",
   "nbconvert_exporter": "python",
   "pygments_lexer": "ipython3",
   "version": "3.11.3"
  },
  "orig_nbformat": 4
 },
 "nbformat": 4,
 "nbformat_minor": 2
}
