{
 "cells": [
  {
   "cell_type": "markdown",
   "metadata": {},
   "source": [
    "# Project Urban Rooftop Classification: Forth Notebook: Addresses and Lat/Long\n",
    "\n",
    "From the screenshot to the classification \n",
    "\n",
    "### Geospatial dataset: Splitting your data "
   ]
  },
  {
   "cell_type": "code",
   "execution_count": 5,
   "metadata": {},
   "outputs": [
    {
     "data": {
      "text/plain": [
       "'\\nCode for splitting folder into train, test, and val.\\nOnce the new folders are created rename them and arrange in the format below to be used\\nfor semantic segmentation using data generators. \\n\\npip install split-folders\\n'"
      ]
     },
     "execution_count": 5,
     "metadata": {},
     "output_type": "execute_result"
    }
   ],
   "source": [
    "###############################################################\n",
    "#Now split the data into training, validation and testing. \n",
    "#!pip install split-folders\n",
    "import splitfolders   # or import split_folders \n",
    "\"\"\"\n",
    "Code for splitting folder into train, test, and val.\n",
    "Once the new folders are created rename them and arrange in the format below to be used\n",
    "for semantic segmentation using data generators. \n",
    "\n",
    "pip install split-folders\n",
    "\"\"\""
   ]
  },
  {
   "cell_type": "code",
   "execution_count": null,
   "metadata": {},
   "outputs": [],
   "source": [
    "#The data format we what \n",
    "\n",
    "\"\"\"\"\"\n",
    "Data/\n",
    "    train_images/\n",
    "                train/\n",
    "                    img1, img2, img3, ......\n",
    "    \n",
    "    train_masks/\n",
    "                train/\n",
    "                    msk1, msk, msk3, ......\n",
    "                    \n",
    "    val_images/\n",
    "                val/\n",
    "                    img1, img2, img3, ......                \n",
    "\n",
    "    val_masks/\n",
    "                val/\n",
    "                    msk1, msk, msk3, ......\n",
    "      \n",
    "                    \n",
    "\"\"\""
   ]
  },
  {
   "cell_type": "markdown",
   "metadata": {},
   "source": [
    "# My own way \n",
    "\n",
    "Some of the shown  did not work as wanted... we are trying it my way "
   ]
  },
  {
   "cell_type": "code",
   "execution_count": 2,
   "metadata": {},
   "outputs": [],
   "source": [
    "# Importing Lib\n",
    "import shutil   #to copy dirs\n",
    "import random   #chose randomely \n",
    "import os       #identify dir structures etc "
   ]
  },
  {
   "cell_type": "code",
   "execution_count": 118,
   "metadata": {},
   "outputs": [],
   "source": [
    "#defining in and outpuut folder - please spaces in the names \n",
    "output_folder = r'/Users/robertroskoden/Documents/DataScieneBootcampSPICED/ds-capestone-project-DW89/data/data_for_training_and_testing'\n",
    "input_folder = r'/Users/robertroskoden/Documents/DataScieneBootcampSPICED/ds-capestone-project-DW89/data/Splittingfolder_temp'\n"
   ]
  },
  {
   "cell_type": "code",
   "execution_count": 119,
   "metadata": {},
   "outputs": [],
   "source": [
    "#Listing the folder containt \n",
    "OldFolderList = os.listdir(input_folder)\n",
    "NewFolderList = OldFolderList"
   ]
  },
  {
   "cell_type": "markdown",
   "metadata": {},
   "source": [
    "## But at first we have to rename our folder... stupid german \"Umlaute\" "
   ]
  },
  {
   "cell_type": "code",
   "execution_count": 77,
   "metadata": {},
   "outputs": [
    {
     "data": {
      "text/plain": [
       "['175_Attilastrasse', '162_Attilastrasse']"
      ]
     },
     "execution_count": 77,
     "metadata": {},
     "output_type": "execute_result"
    }
   ],
   "source": [
    "#changing folder names without to w/ ß\n",
    "counter = 0\n",
    "for Name in NewFolderList:  \n",
    "    if \"ß\" in Name:\n",
    "        NewFolderList[counter] = NewFolderList[counter].replace(\"ß\", \"ss\")\n",
    "        counter  += 1\n",
    "\n",
    "    else:\n",
    "        counter  += 1\n",
    "\n",
    "NewFolderList[3:5]"
   ]
  },
  {
   "cell_type": "code",
   "execution_count": 120,
   "metadata": {},
   "outputs": [],
   "source": [
    "#path = 'data/Splittingfolder_temp'---- this was a quick fix cause i couldnt work with relative paths \n",
    "path = '/Users/robertroskoden/Documents/DataScieneBootcampSPICED/ds-capestone-project-DW89/data/Splittingfolder_temp'"
   ]
  },
  {
   "cell_type": "code",
   "execution_count": 100,
   "metadata": {},
   "outputs": [],
   "source": [
    "#creating new filenames\n",
    "i = 0\n",
    "for filename in os.listdir(path):\n",
    "    os.rename(os.path.join(path,filename), os.path.join(path,NewFolderList[i]))\n",
    "    i = i +1\n",
    "\n",
    "os.listdir(path)#making sure it worked "
   ]
  },
  {
   "cell_type": "code",
   "execution_count": 122,
   "metadata": {},
   "outputs": [
    {
     "name": "stdout",
     "output_type": "stream",
     "text": [
      "['160_Attilastrasse', '60_Steglitzer', '80_Ritterstrasse', '53_Ritterstrasse', '174_Attilastrasse', '25_Ritterstrasse', '102_Steglitzer', '125_Attilastrasse', '57_Attilastrasse', '28_Alt-Lankwitz', '56_Ritterstrasse', '64_Ritterstrasse', '8_Alt-Lankwitz', '78_Ritterstrasse', '114_Attilastrasse', '68_Steglitzer', '45_Alt-Lankwitz', '31_Ritterstrasse', '117_Attilastrasse', '70_Steglitzer', '86_Alt-Lankwitz', '82_Steglitzer', '143_Attilastrasse', '42_Alt-Lankwitz', '57_Steglitzer', '154_Attilastrasse', '58_Steglitzer', '32_Ritterstrasse', '96_Alt-Lankwitz', '109_Ritterstrasse', '55_Ritterstrasse', '115_Ritterstrasse', '112_Attilastrasse', '47_Ritterstrasse', '104_Steglitzer', '103_Steglitzer', '119_Steglitzer', '67_Ritterstrasse', '61_Steglitzer', '77_Alt-Lankwitz', '107_Alt-Lankwitz', '64_Attilastrasse', '86_Ritterstrasse', '33_Attilastrasse', '84_Steglitzer', '44_Steglitzer', '50_Ritterstrasse', '78_Steglitzer', '7_Steglitzer', '116_Steglitzer']\n"
     ]
    }
   ],
   "source": [
    "#picking random\n",
    "# Train_Data = random.sample(NewFolderList,50)\n",
    "# print(Train_Data)\n",
    "#copying data to new location \n",
    "# for filename in os.listdir(path):\n",
    "#     pathway = os.path.join(path,filename)\n",
    "#     print(pathway)\n",
    "#     shutil.copytree(pathway, os.path.join(output_folder, filename))\n",
    "#     print('next')"
   ]
  },
  {
   "cell_type": "markdown",
   "metadata": {},
   "source": [
    "# This is picking random pictures after masking\n"
   ]
  },
  {
   "cell_type": "code",
   "execution_count": 3,
   "metadata": {},
   "outputs": [
    {
     "name": "stdout",
     "output_type": "stream",
     "text": [
      "['121_Steglitzer', '116_Steglitzer', '175_Attilastrasse', '162_Attilastrasse', '166_Attilastrasse', '171_Attilastrasse', '148_Attilastrasse', '124_Ritterstrasse', '112_Attilastrasse', '116_Attilastrasse', '120_Ritterstrasse', '138_Attilastrasse', '107_Steglitzer', '119_Ritterstrasse', '111_Attilastrasse', '109_Ritterstrasse', '.DS_Store', '009_Ritterstrasse', '006_Attilastrasse', '002_Attilastrasse', '005_Attilastrasse', '042_Ritterstrasse', '042_Steglitzer', '075_Steglitzer', '020_Steglitzer', '017_Steglitzer', '088_Ritterstrasse', '035_Ritterstrasse', '022_Ritterstrasse', '014_Attilastrasse', '034_Steglitzer', '056_Steglitzer', '061_Steglitzer', '010_Attilastrasse', '082_Steglitzer', '026_Ritterstrasse', '031_Ritterstrasse', '029_Attilastrasse', '028_Steglitzer', '064_Attilastrasse', '052_Ritterstrasse', '039_Steglitzer', '045_Ritterstrasse', '093_Steglitzer', '041_Ritterstrasse', '070_Steglitzer', '047_Steglitzer', '056_Ritterstrasse', '012_Steglitzer', '060_Attilastrasse', '025_Steglitzer', '078_Ritterstrasse', '059_Attilastrasse', '009_Alt-Lankwitz', '049_Alt-Lankwitz', '094_Alt-Lankwitz', '039_Alt-Lankwitz', '093_Alt-Lankwitz', '001_Steglitzer', '079_Alt-Lankwitz', '086_Alt-Lankwitz', '081_Alt-Lankwitz', '048_Alt-Lankwitz']\n"
     ]
    }
   ],
   "source": [
    "#creating paths\n",
    "FPath = '/Users/robertroskoden/Documents/DataScieneBootcampSPICED/ds-capestone-project-DW89/data/data_for_training_and_testing/Images'\n",
    "SPath = '/Users/robertroskoden/Documents/DataScieneBootcampSPICED/ds-capestone-project-DW89/data/Data/train_images/train'\n",
    "#picking randomely \n",
    "#Train_Data = random.sample(FPath,40)\n",
    "#print(Train_Data)\n",
    "#listing all items \n",
    "ImagesF = os.listdir(FPath)\n",
    "print(ImagesF)"
   ]
  },
  {
   "cell_type": "code",
   "execution_count": 4,
   "metadata": {},
   "outputs": [
    {
     "name": "stdout",
     "output_type": "stream",
     "text": [
      "121_Steglitzer_Map.png\n",
      "121_Steglitzer_Sate.png\n",
      "/Users/robertroskoden/Documents/DataScieneBootcampSPICED/ds-capestone-project-DW89/data/data_for_training_and_testing/Images/121_Steglitzer/121_Steglitzer_Sate.png\n",
      "121_Steglitzer_Hyp.png\n",
      "116_Steglitzer_Sate.png\n",
      "/Users/robertroskoden/Documents/DataScieneBootcampSPICED/ds-capestone-project-DW89/data/data_for_training_and_testing/Images/116_Steglitzer/116_Steglitzer_Sate.png\n",
      "116_Steglitzer_Map.png\n",
      "116_Steglitzer_Hyp.png\n",
      "175_Attilastraße_Map.png\n",
      "175_Attilastraße_Hyp.png\n",
      "175_Attilastraße_Sate.png\n",
      "/Users/robertroskoden/Documents/DataScieneBootcampSPICED/ds-capestone-project-DW89/data/data_for_training_and_testing/Images/175_Attilastrasse/175_Attilastraße_Sate.png\n",
      "162_Attilastraße_Map.png\n",
      "162_Attilastraße_Sate.png\n",
      "/Users/robertroskoden/Documents/DataScieneBootcampSPICED/ds-capestone-project-DW89/data/data_for_training_and_testing/Images/162_Attilastrasse/162_Attilastraße_Sate.png\n",
      "162_Attilastraße_Hyp.png\n",
      "166_Attilastraße_Hyp.png\n",
      "166_Attilastraße_Map.png\n",
      "166_Attilastraße_Sate.png\n",
      "/Users/robertroskoden/Documents/DataScieneBootcampSPICED/ds-capestone-project-DW89/data/data_for_training_and_testing/Images/166_Attilastrasse/166_Attilastraße_Sate.png\n",
      "171_Attilastraße_Hyp.png\n",
      "171_Attilastraße_Sate.png\n",
      "/Users/robertroskoden/Documents/DataScieneBootcampSPICED/ds-capestone-project-DW89/data/data_for_training_and_testing/Images/171_Attilastrasse/171_Attilastraße_Sate.png\n",
      "171_Attilastraße_Map.png\n",
      "148_Attilastraße_Hyp.png\n",
      "148_Attilastraße_Map.png\n",
      "148_Attilastraße_Sate.png\n",
      "/Users/robertroskoden/Documents/DataScieneBootcampSPICED/ds-capestone-project-DW89/data/data_for_training_and_testing/Images/148_Attilastrasse/148_Attilastraße_Sate.png\n",
      "124_Ritterstraße_Sate.png\n",
      "/Users/robertroskoden/Documents/DataScieneBootcampSPICED/ds-capestone-project-DW89/data/data_for_training_and_testing/Images/124_Ritterstrasse/124_Ritterstraße_Sate.png\n",
      "124_Ritterstraße_Hyp.png\n",
      "124_Ritterstraße_Map.png\n",
      "112_Attilastraße_Map.png\n",
      "112_Attilastraße_Sate.png\n",
      "/Users/robertroskoden/Documents/DataScieneBootcampSPICED/ds-capestone-project-DW89/data/data_for_training_and_testing/Images/112_Attilastrasse/112_Attilastraße_Sate.png\n",
      "112_Attilastraße_Hyp.png\n",
      "116_Attilastraße_Hyp.png\n",
      "116_Attilastraße_Sate.png\n",
      "/Users/robertroskoden/Documents/DataScieneBootcampSPICED/ds-capestone-project-DW89/data/data_for_training_and_testing/Images/116_Attilastrasse/116_Attilastraße_Sate.png\n",
      "116_Attilastraße_Map.png\n",
      "120_Ritterstraße_Sate.png\n",
      "/Users/robertroskoden/Documents/DataScieneBootcampSPICED/ds-capestone-project-DW89/data/data_for_training_and_testing/Images/120_Ritterstrasse/120_Ritterstraße_Sate.png\n",
      "120_Ritterstraße_Map.png\n",
      "120_Ritterstraße_Hyp.png\n",
      "138_Attilastraße_Hyp.png\n",
      "138_Attilastraße_Map.png\n",
      "138_Attilastraße_Sate.png\n",
      "/Users/robertroskoden/Documents/DataScieneBootcampSPICED/ds-capestone-project-DW89/data/data_for_training_and_testing/Images/138_Attilastrasse/138_Attilastraße_Sate.png\n",
      "107_Steglitzer_Hyp.png\n",
      "107_Steglitzer_Map.png\n",
      "107_Steglitzer_Sate.png\n",
      "/Users/robertroskoden/Documents/DataScieneBootcampSPICED/ds-capestone-project-DW89/data/data_for_training_and_testing/Images/107_Steglitzer/107_Steglitzer_Sate.png\n",
      "119_Ritterstraße_Map.png\n",
      "119_Ritterstraße_Sate.png\n",
      "/Users/robertroskoden/Documents/DataScieneBootcampSPICED/ds-capestone-project-DW89/data/data_for_training_and_testing/Images/119_Ritterstrasse/119_Ritterstraße_Sate.png\n",
      "119_Ritterstraße_Hyp.png\n",
      "111_Attilastraße_Sate.png\n",
      "/Users/robertroskoden/Documents/DataScieneBootcampSPICED/ds-capestone-project-DW89/data/data_for_training_and_testing/Images/111_Attilastrasse/111_Attilastraße_Sate.png\n",
      "111_Attilastraße_Map.png\n",
      "111_Attilastraße_Hyp.png\n",
      "109_Ritterstraße_Hyp.png\n",
      "109_Ritterstraße_Map.png\n",
      "109_Ritterstraße_Sate.png\n",
      "/Users/robertroskoden/Documents/DataScieneBootcampSPICED/ds-capestone-project-DW89/data/data_for_training_and_testing/Images/109_Ritterstrasse/109_Ritterstraße_Sate.png\n",
      "9_Ritterstraße_Sate.png\n",
      "/Users/robertroskoden/Documents/DataScieneBootcampSPICED/ds-capestone-project-DW89/data/data_for_training_and_testing/Images/009_Ritterstrasse/9_Ritterstraße_Sate.png\n",
      "9_Ritterstraße_Map.png\n",
      "9_Ritterstraße_Hyp.png\n",
      "6_Attilastraße_Hyp.png\n",
      "6_Attilastraße_Sate.png\n",
      "/Users/robertroskoden/Documents/DataScieneBootcampSPICED/ds-capestone-project-DW89/data/data_for_training_and_testing/Images/006_Attilastrasse/6_Attilastraße_Sate.png\n",
      "6_Attilastraße_Map.png\n",
      "2_Attilastraße_Sate.png\n",
      "/Users/robertroskoden/Documents/DataScieneBootcampSPICED/ds-capestone-project-DW89/data/data_for_training_and_testing/Images/002_Attilastrasse/2_Attilastraße_Sate.png\n",
      "2_Attilastraße_Map.png\n",
      "2_Attilastraße_Hyp.png\n",
      "5_Attilastraße_Hyp.png\n",
      "5_Attilastraße_Map.png\n",
      "5_Attilastraße_Sate.png\n",
      "/Users/robertroskoden/Documents/DataScieneBootcampSPICED/ds-capestone-project-DW89/data/data_for_training_and_testing/Images/005_Attilastrasse/5_Attilastraße_Sate.png\n",
      "42_Ritterstraße_Sate.png\n",
      "/Users/robertroskoden/Documents/DataScieneBootcampSPICED/ds-capestone-project-DW89/data/data_for_training_and_testing/Images/042_Ritterstrasse/42_Ritterstraße_Sate.png\n",
      "42_Ritterstraße_Hyp.png\n",
      "42_Ritterstraße_Map.png\n",
      "42_Steglitzer_Map.png\n",
      "42_Steglitzer_Hyp.png\n",
      "42_Steglitzer_Sate.png\n",
      "/Users/robertroskoden/Documents/DataScieneBootcampSPICED/ds-capestone-project-DW89/data/data_for_training_and_testing/Images/042_Steglitzer/42_Steglitzer_Sate.png\n",
      "75_Steglitzer_Sate.png\n",
      "/Users/robertroskoden/Documents/DataScieneBootcampSPICED/ds-capestone-project-DW89/data/data_for_training_and_testing/Images/075_Steglitzer/75_Steglitzer_Sate.png\n",
      "75_Steglitzer_Map.png\n",
      "75_Steglitzer_Hyp.png\n",
      "20_Steglitzer_Sate.png\n",
      "/Users/robertroskoden/Documents/DataScieneBootcampSPICED/ds-capestone-project-DW89/data/data_for_training_and_testing/Images/020_Steglitzer/20_Steglitzer_Sate.png\n",
      "20_Steglitzer_Hyp.png\n",
      "20_Steglitzer_Map.png\n",
      "17_Steglitzer_Hyp.png\n",
      "17_Steglitzer_Map.png\n",
      "17_Steglitzer_Sate.png\n",
      "/Users/robertroskoden/Documents/DataScieneBootcampSPICED/ds-capestone-project-DW89/data/data_for_training_and_testing/Images/017_Steglitzer/17_Steglitzer_Sate.png\n",
      "88_Ritterstraße_Sate.png\n",
      "/Users/robertroskoden/Documents/DataScieneBootcampSPICED/ds-capestone-project-DW89/data/data_for_training_and_testing/Images/088_Ritterstrasse/88_Ritterstraße_Sate.png\n",
      "88_Ritterstraße_Map.png\n",
      "88_Ritterstraße_Hyp.png\n",
      "35_Ritterstraße_Map.png\n",
      "35_Ritterstraße_Sate.png\n",
      "/Users/robertroskoden/Documents/DataScieneBootcampSPICED/ds-capestone-project-DW89/data/data_for_training_and_testing/Images/035_Ritterstrasse/35_Ritterstraße_Sate.png\n",
      "35_Ritterstraße_Hyp.png\n",
      "22_Ritterstraße_Map.png\n",
      "22_Ritterstraße_Sate.png\n",
      "/Users/robertroskoden/Documents/DataScieneBootcampSPICED/ds-capestone-project-DW89/data/data_for_training_and_testing/Images/022_Ritterstrasse/22_Ritterstraße_Sate.png\n",
      "22_Ritterstraße_Hyp.png\n",
      "14_Attilastraße_Hyp.png\n",
      "14_Attilastraße_Map.png\n",
      "14_Attilastraße_Sate.png\n",
      "/Users/robertroskoden/Documents/DataScieneBootcampSPICED/ds-capestone-project-DW89/data/data_for_training_and_testing/Images/014_Attilastrasse/14_Attilastraße_Sate.png\n",
      "34_Steglitzer_Hyp.png\n",
      "34_Steglitzer_Sate.png\n",
      "/Users/robertroskoden/Documents/DataScieneBootcampSPICED/ds-capestone-project-DW89/data/data_for_training_and_testing/Images/034_Steglitzer/34_Steglitzer_Sate.png\n",
      "34_Steglitzer_Map.png\n",
      "56_Steglitzer_Map.png\n",
      "56_Steglitzer_Hyp.png\n",
      "56_Steglitzer_Sate.png\n",
      "/Users/robertroskoden/Documents/DataScieneBootcampSPICED/ds-capestone-project-DW89/data/data_for_training_and_testing/Images/056_Steglitzer/56_Steglitzer_Sate.png\n",
      "61_Steglitzer_Sate.png\n",
      "/Users/robertroskoden/Documents/DataScieneBootcampSPICED/ds-capestone-project-DW89/data/data_for_training_and_testing/Images/061_Steglitzer/61_Steglitzer_Sate.png\n",
      "61_Steglitzer_Map.png\n",
      "61_Steglitzer_Hyp.png\n",
      "10_Attilastraße_Map.png\n",
      "10_Attilastraße_Hyp.png\n",
      "10_Attilastraße_Sate.png\n",
      "/Users/robertroskoden/Documents/DataScieneBootcampSPICED/ds-capestone-project-DW89/data/data_for_training_and_testing/Images/010_Attilastrasse/10_Attilastraße_Sate.png\n",
      "82_Steglitzer_Hyp.png\n",
      "82_Steglitzer_Sate.png\n",
      "/Users/robertroskoden/Documents/DataScieneBootcampSPICED/ds-capestone-project-DW89/data/data_for_training_and_testing/Images/082_Steglitzer/82_Steglitzer_Sate.png\n",
      "82_Steglitzer_Map.png\n",
      "26_Ritterstraße_Sate.png\n",
      "/Users/robertroskoden/Documents/DataScieneBootcampSPICED/ds-capestone-project-DW89/data/data_for_training_and_testing/Images/026_Ritterstrasse/26_Ritterstraße_Sate.png\n",
      "26_Ritterstraße_Hyp.png\n",
      "26_Ritterstraße_Map.png\n",
      "31_Ritterstraße_Hyp.png\n",
      "31_Ritterstraße_Sate.png\n",
      "/Users/robertroskoden/Documents/DataScieneBootcampSPICED/ds-capestone-project-DW89/data/data_for_training_and_testing/Images/031_Ritterstrasse/31_Ritterstraße_Sate.png\n",
      "31_Ritterstraße_Map.png\n",
      "transtest2.png\n",
      "29_Attilastraße_Map.png\n",
      "29_Attilastraße_Sate.png\n",
      "/Users/robertroskoden/Documents/DataScieneBootcampSPICED/ds-capestone-project-DW89/data/data_for_training_and_testing/Images/029_Attilastrasse/29_Attilastraße_Sate.png\n",
      "29_Attilastraße_Hyp.png\n",
      "28_Steglitzer_Sate.png\n",
      "/Users/robertroskoden/Documents/DataScieneBootcampSPICED/ds-capestone-project-DW89/data/data_for_training_and_testing/Images/028_Steglitzer/28_Steglitzer_Sate.png\n",
      "28_Steglitzer_Map.png\n",
      "28_Steglitzer_Hyp.png\n",
      "64_Attilastraße_Hyp.png\n",
      "64_Attilastraße_Map.png\n",
      "64_Attilastraße_Sate.png\n",
      "/Users/robertroskoden/Documents/DataScieneBootcampSPICED/ds-capestone-project-DW89/data/data_for_training_and_testing/Images/064_Attilastrasse/64_Attilastraße_Sate.png\n",
      "52_Ritterstraße_Map.png\n",
      "52_Ritterstraße_Hyp.png\n",
      "52_Ritterstraße_Sate.png\n",
      "/Users/robertroskoden/Documents/DataScieneBootcampSPICED/ds-capestone-project-DW89/data/data_for_training_and_testing/Images/052_Ritterstrasse/52_Ritterstraße_Sate.png\n",
      "39_Steglitzer_Hyp.png\n",
      "39_Steglitzer_Map.png\n",
      "39_Steglitzer_Sate.png\n",
      "/Users/robertroskoden/Documents/DataScieneBootcampSPICED/ds-capestone-project-DW89/data/data_for_training_and_testing/Images/039_Steglitzer/39_Steglitzer_Sate.png\n",
      "45_Ritterstraße_Map.png\n",
      "45_Ritterstraße_Sate.png\n",
      "/Users/robertroskoden/Documents/DataScieneBootcampSPICED/ds-capestone-project-DW89/data/data_for_training_and_testing/Images/045_Ritterstrasse/45_Ritterstraße_Sate.png\n",
      "45_Ritterstraße_Hyp.png\n",
      "93_Steglitzer_Sate.png\n",
      "/Users/robertroskoden/Documents/DataScieneBootcampSPICED/ds-capestone-project-DW89/data/data_for_training_and_testing/Images/093_Steglitzer/93_Steglitzer_Sate.png\n",
      "93_Steglitzer_Map.png\n",
      "93_Steglitzer_Hyp.png\n",
      "41_Ritterstraße_Hyp.png\n",
      "41_Ritterstraße_Map.png\n",
      "41_Ritterstraße_Sate.png\n",
      "/Users/robertroskoden/Documents/DataScieneBootcampSPICED/ds-capestone-project-DW89/data/data_for_training_and_testing/Images/041_Ritterstrasse/41_Ritterstraße_Sate.png\n",
      "70_Steglitzer_Sate.png\n",
      "/Users/robertroskoden/Documents/DataScieneBootcampSPICED/ds-capestone-project-DW89/data/data_for_training_and_testing/Images/070_Steglitzer/70_Steglitzer_Sate.png\n",
      "70_Steglitzer_Hyp.png\n",
      "70_Steglitzer_Map.png\n",
      "47_Steglitzer_Hyp.png\n",
      "47_Steglitzer_Map.png\n",
      "47_Steglitzer_Sate.png\n",
      "/Users/robertroskoden/Documents/DataScieneBootcampSPICED/ds-capestone-project-DW89/data/data_for_training_and_testing/Images/047_Steglitzer/47_Steglitzer_Sate.png\n",
      "56_Ritterstraße_Hyp.png\n",
      "56_Ritterstraße_Map.png\n",
      "56_Ritterstraße_Sate.png\n",
      "/Users/robertroskoden/Documents/DataScieneBootcampSPICED/ds-capestone-project-DW89/data/data_for_training_and_testing/Images/056_Ritterstrasse/56_Ritterstraße_Sate.png\n",
      "12_Steglitzer_Map.png\n",
      "12_Steglitzer_Hyp.png\n",
      "12_Steglitzer_Sate.png\n",
      "/Users/robertroskoden/Documents/DataScieneBootcampSPICED/ds-capestone-project-DW89/data/data_for_training_and_testing/Images/012_Steglitzer/12_Steglitzer_Sate.png\n",
      "60_Attilastraße_Map.png\n",
      "60_Attilastraße_Hyp.png\n",
      "60_Attilastraße_Sate.png\n",
      "/Users/robertroskoden/Documents/DataScieneBootcampSPICED/ds-capestone-project-DW89/data/data_for_training_and_testing/Images/060_Attilastrasse/60_Attilastraße_Sate.png\n",
      "25_Steglitzer_Sate.png\n",
      "/Users/robertroskoden/Documents/DataScieneBootcampSPICED/ds-capestone-project-DW89/data/data_for_training_and_testing/Images/025_Steglitzer/25_Steglitzer_Sate.png\n",
      "25_Steglitzer_Map.png\n",
      "25_Steglitzer_Hyp.png\n",
      "78_Ritterstraße_Sate.png\n",
      "/Users/robertroskoden/Documents/DataScieneBootcampSPICED/ds-capestone-project-DW89/data/data_for_training_and_testing/Images/078_Ritterstrasse/78_Ritterstraße_Sate.png\n",
      "78_Ritterstraße_Hyp.png\n",
      "78_Ritterstraße_Map.png\n",
      "59_Attilastraße_Map.png\n",
      "59_Attilastraße_Sate.png\n",
      "/Users/robertroskoden/Documents/DataScieneBootcampSPICED/ds-capestone-project-DW89/data/data_for_training_and_testing/Images/059_Attilastrasse/59_Attilastraße_Sate.png\n",
      "59_Attilastraße_Hyp.png\n",
      "9_Alt-Lankwitz_Map.png\n",
      "9_Alt-Lankwitz_Sate.png\n",
      "/Users/robertroskoden/Documents/DataScieneBootcampSPICED/ds-capestone-project-DW89/data/data_for_training_and_testing/Images/009_Alt-Lankwitz/9_Alt-Lankwitz_Sate.png\n",
      "9_Alt-Lankwitz_Hyp.png\n",
      "49_Alt-Lankwitz_Hyp.png\n",
      "49_Alt-Lankwitz_Sate.png\n",
      "/Users/robertroskoden/Documents/DataScieneBootcampSPICED/ds-capestone-project-DW89/data/data_for_training_and_testing/Images/049_Alt-Lankwitz/49_Alt-Lankwitz_Sate.png\n",
      "49_Alt-Lankwitz_Map.png\n",
      "94_Alt-Lankwitz_Map.png\n",
      "94_Alt-Lankwitz_Hyp.png\n",
      "94_Alt-Lankwitz_Sate.png\n",
      "/Users/robertroskoden/Documents/DataScieneBootcampSPICED/ds-capestone-project-DW89/data/data_for_training_and_testing/Images/094_Alt-Lankwitz/94_Alt-Lankwitz_Sate.png\n",
      "39_Alt-Lankwitz_Sate.png\n",
      "/Users/robertroskoden/Documents/DataScieneBootcampSPICED/ds-capestone-project-DW89/data/data_for_training_and_testing/Images/039_Alt-Lankwitz/39_Alt-Lankwitz_Sate.png\n",
      "39_Alt-Lankwitz_Map.png\n",
      "39_Alt-Lankwitz_Hyp.png\n",
      "93_Alt-Lankwitz_Sate.png\n",
      "/Users/robertroskoden/Documents/DataScieneBootcampSPICED/ds-capestone-project-DW89/data/data_for_training_and_testing/Images/093_Alt-Lankwitz/93_Alt-Lankwitz_Sate.png\n",
      "93_Alt-Lankwitz_Map.png\n",
      "93_Alt-Lankwitz_Hyp.png\n",
      "1_Steglitzer_Map.png\n",
      "1_Steglitzer_Hyp.png\n",
      "1_Steglitzer_Sate.png\n",
      "/Users/robertroskoden/Documents/DataScieneBootcampSPICED/ds-capestone-project-DW89/data/data_for_training_and_testing/Images/001_Steglitzer/1_Steglitzer_Sate.png\n",
      "79_Alt-Lankwitz_Sate.png\n",
      "/Users/robertroskoden/Documents/DataScieneBootcampSPICED/ds-capestone-project-DW89/data/data_for_training_and_testing/Images/079_Alt-Lankwitz/79_Alt-Lankwitz_Sate.png\n",
      "79_Alt-Lankwitz_Hyp.png\n",
      "79_Alt-Lankwitz_Map.png\n",
      "86_Alt-Lankwitz_Map.png\n",
      "86_Alt-Lankwitz_Hyp.png\n",
      "86_Alt-Lankwitz_Sate.png\n",
      "/Users/robertroskoden/Documents/DataScieneBootcampSPICED/ds-capestone-project-DW89/data/data_for_training_and_testing/Images/086_Alt-Lankwitz/86_Alt-Lankwitz_Sate.png\n",
      "81_Alt-Lankwitz_Sate.png\n",
      "/Users/robertroskoden/Documents/DataScieneBootcampSPICED/ds-capestone-project-DW89/data/data_for_training_and_testing/Images/081_Alt-Lankwitz/81_Alt-Lankwitz_Sate.png\n",
      "81_Alt-Lankwitz_Map.png\n",
      "81_Alt-Lankwitz_Hyp.png\n",
      "48_Alt-Lankwitz_Map.png\n",
      "48_Alt-Lankwitz_Hyp.png\n",
      "48_Alt-Lankwitz_Sate.png\n",
      "/Users/robertroskoden/Documents/DataScieneBootcampSPICED/ds-capestone-project-DW89/data/data_for_training_and_testing/Images/048_Alt-Lankwitz/48_Alt-Lankwitz_Sate.png\n"
     ]
    }
   ],
   "source": [
    "#Moving randomely chosen folders to new directory\n",
    "for item in ImagesF:\n",
    "    if item != '.DS_Store':\n",
    "        ImF = os.path.join(FPath, item)\n",
    "        #print(ImF)\n",
    "        Im = os.listdir(ImF)\n",
    "        for i in Im:\n",
    "            ImPath = os.path.join(ImF, i)\n",
    "            print(i)\n",
    "            if 'Sate' in i:\n",
    "                #dest = SPath\n",
    "                #ImP = os.path.join(Im, i)\n",
    "                print(ImPath)\n",
    "                destination = shutil.copy2(ImPath, SPath)"
   ]
  }
 ],
 "metadata": {
  "kernelspec": {
   "display_name": "Python 3",
   "language": "python",
   "name": "python3"
  },
  "language_info": {
   "codemirror_mode": {
    "name": "ipython",
    "version": 3
   },
   "file_extension": ".py",
   "mimetype": "text/x-python",
   "name": "python",
   "nbconvert_exporter": "python",
   "pygments_lexer": "ipython3",
   "version": "3.11.3"
  },
  "orig_nbformat": 4
 },
 "nbformat": 4,
 "nbformat_minor": 2
}
