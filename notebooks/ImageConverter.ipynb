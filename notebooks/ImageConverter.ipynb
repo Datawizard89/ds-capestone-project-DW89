{
 "cells": [
  {
   "cell_type": "markdown",
   "metadata": {},
   "source": [
    "# Project Urban Rooftop Classification: Third Notebook: Hybrid Image\n",
    "\n",
    "From the screenshot to the classification \n",
    "\n",
    "### Geospatial Hypothesis: hybrid images will perform better than just the satellite image "
   ]
  },
  {
   "cell_type": "code",
   "execution_count": 1,
   "metadata": {},
   "outputs": [],
   "source": [
    "import pandas as pd\n",
    "import os \n",
    "import numpy as np #asarray\n",
    "from numpy import mean\n",
    "from PIL import Image\n"
   ]
  },
  {
   "cell_type": "markdown",
   "metadata": {},
   "source": [
    "### First things first \n",
    "We need to check that we are in the right directory and that we can identify all the sub-data-folders "
   ]
  },
  {
   "cell_type": "code",
   "execution_count": 2,
   "metadata": {},
   "outputs": [
    {
     "name": "stdout",
     "output_type": "stream",
     "text": [
      "/Users/robertroskoden/Documents/Data Sciene Bootcamp SPICED /ds-capestone-project-DW89/data\n",
      "['Ritterstraße', '.DS_Store', 'Attilastraßen', 'Alt-Lankwitz', 'addressesLatLong.csv', 'StaticKey.txt', 'Steglitzer Damm']\n",
      "['Ritterstraße', 'Attilastraßen', 'Alt-Lankwitz', 'Steglitzer Damm']\n",
      "['/Users/robertroskoden/Documents/Data Sciene Bootcamp SPICED /ds-capestone-project-DW89/data/Ritterstraße', '/Users/robertroskoden/Documents/Data Sciene Bootcamp SPICED /ds-capestone-project-DW89/data/Attilastraßen', '/Users/robertroskoden/Documents/Data Sciene Bootcamp SPICED /ds-capestone-project-DW89/data/Alt-Lankwitz', '/Users/robertroskoden/Documents/Data Sciene Bootcamp SPICED /ds-capestone-project-DW89/data/Steglitzer Damm']\n"
     ]
    }
   ],
   "source": [
    "#making sure we are in the right folder \n",
    "os.chdir('/Users/robertroskoden/Documents/Data Sciene Bootcamp SPICED /ds-capestone-project-DW89/data')\n",
    "pwd = os.getcwd()# get current dir\n",
    "print(pwd)\n",
    "if pwd.split('/')[-1] != 'data':#check if we are in the data folder\n",
    "    pwd = input('Please enter the data dir, should be called \"data\"')#if not user shall provide\n",
    "    print(pwd)\n",
    "    os.chdir(pwd)#changing into data dir \n",
    "lisfile = os.listdir(pwd)#listing all objects \n",
    "print(lisfile)\n",
    "LisDir = []#generating empty list \n",
    "for item in lisfile:#checking if object is file or subfolder (we want in the sub folder)\n",
    "    if os.path.isdir(item):\n",
    "        LisDir.append(item) #saving subfolder names\n",
    "print(LisDir)\n",
    "SubDir = []#generating empty list\n",
    "for item in LisDir: \n",
    "    SubDir.append(pwd + '/' + item)#appending to list full generated pathways of the main sub-data-folders\n",
    "                                   #here: Alt-Lamkwitz, Attilastraße, Ritterstraße, Steglitzer Damm (including Albrechtstraße)\n",
    "print(SubDir)"
   ]
  },
  {
   "cell_type": "markdown",
   "metadata": {},
   "source": [
    "### Second things\n",
    "\n",
    "Now that we create the pathways for the sub-data-folders, we can loop through these and create hybrid images. "
   ]
  },
  {
   "cell_type": "code",
   "execution_count": 3,
   "metadata": {},
   "outputs": [
    {
     "name": "stdout",
     "output_type": "stream",
     "text": [
      "next\n",
      "next\n",
      "next\n",
      "next\n"
     ]
    }
   ],
   "source": [
    "\n",
    "for item in SubDir:#SubDir Lis from above loop, unpacking \n",
    "    if os.path.isdir(item):\n",
    "        os.chdir(item)#changing from data dir to sub-data-dir\n",
    "        ImDir = os.listdir(item)#listing all objects \n",
    "        for subf in ImDir:#subf = subfoldename \n",
    "            ImFol = os.path.join(item,subf)#creating image directory\n",
    "            if os.path.isdir(ImFol):\n",
    "                os.chdir(ImFol)#changing into the single data folders (lowest subfolder level)\n",
    "                ImLis = os.listdir(ImFol)#listing all objects \n",
    "                #print(ImLis)\n",
    "                #print(type(ImLis))\n",
    "                #----------------------------------------------------------------\n",
    "                # loading images and making sure, that there are in the format RGB\n",
    "                img1 = Image.open(ImLis[0]).convert(\"RGB\")\n",
    "                img2 = Image.open(ImLis[1]).convert(\"RGB\")\n",
    "                img2.putalpha(178)#changing transparency\n",
    "                img1.paste(img2, (0,0), mask = img2 )#superimposing image\n",
    "                #Display image: \n",
    "                #img1.show()#only enable in testing mode, otherwise graphical overload. \n",
    "                #Saving the image \n",
    "                ImName = subf + '_Hyp.png'\n",
    "                img1.save(ImName)#---> NOT finished name must be dynamic! see next cell for current development\n",
    "            else:\n",
    "                print('next')\n",
    "    else:\n",
    "        print('next')"
   ]
  },
  {
   "cell_type": "markdown",
   "metadata": {},
   "source": [
    "### Later on IDEA creating cut outs which can be used for mask"
   ]
  },
  {
   "cell_type": "code",
   "execution_count": null,
   "metadata": {},
   "outputs": [],
   "source": [
    "\n",
    "# #Transforming image into array \n",
    "# SateNP = np.asarray(img1)\n",
    "# MapNP = np.asarray(img2)\n",
    "# #Getting the shape of the ImArrary\n",
    "# AShape = list(MapNP.shape)\n",
    "# print(AShape)\n",
    "#Finding the middel pixel values -> we use these values later on as a starting point for KNN to \n",
    "#identify the the outershape of the house footprint which we assume to be the same as the rooftop in a \n",
    "#bird view representation \n",
    "# Pixelvalue=[] \n",
    "# for i in range((AShape[-1])):\n",
    "#     Pixelvalue.append(MapNP[200][200][i])\n"
   ]
  }
 ],
 "metadata": {
  "kernelspec": {
   "display_name": "Python 3",
   "language": "python",
   "name": "python3"
  },
  "language_info": {
   "codemirror_mode": {
    "name": "ipython",
    "version": 3
   },
   "file_extension": ".py",
   "mimetype": "text/x-python",
   "name": "python",
   "nbconvert_exporter": "python",
   "pygments_lexer": "ipython3",
   "version": "3.11.3"
  },
  "orig_nbformat": 4
 },
 "nbformat": 4,
 "nbformat_minor": 2
}
